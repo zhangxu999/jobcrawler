{
 "cells": [
  {
   "cell_type": "markdown",
   "metadata": {},
   "source": [
    "# 上海电信详单查询流程演示\n",
    "* 手机 18017054743\n",
    "* 服务密码 427755"
   ]
  },
  {
   "cell_type": "markdown",
   "metadata": {},
   "source": [
    "# 向指定的element模拟键盘输入"
   ]
  },
  {
   "cell_type": "markdown",
   "metadata": {},
   "source": [
    "# 打开一个driver"
   ]
  },
  {
   "cell_type": "code",
   "execution_count": 22,
   "metadata": {
    "collapsed": false
   },
   "outputs": [],
   "source": [
    "#help(webdriver.Chrome)"
   ]
  },
  {
   "cell_type": "code",
   "execution_count": 16,
   "metadata": {
    "ExecuteTime": {
     "end_time": "2018-03-04T23:23:14.631009",
     "start_time": "2018-03-04T23:23:14.536008"
    },
    "collapsed": true
   },
   "outputs": [],
   "source": [
    "import selenium"
   ]
  },
  {
   "cell_type": "code",
   "execution_count": 14,
   "metadata": {
    "ExecuteTime": {
     "end_time": "2018-03-04T23:22:20.842515",
     "start_time": "2018-03-04T23:22:20.819452"
    },
    "collapsed": false,
    "scrolled": true
   },
   "outputs": [],
   "source": [
    "import time\n",
    "\n",
    "from selenium.webdriver.support.ui import WebDriverWait\n",
    "from selenium.webdriver.support import expected_conditions as EC\n",
    "from selenium.webdriver.common.by import By\n",
    "from selenium.common.exceptions import TimeoutException\n",
    "from requests_html import HTMLSession\n",
    "from selenium import webdriver\n",
    "#from  pyvirtualdisplay import Display\n",
    "import os\n",
    "from queue import Queue\n",
    "\n",
    "import threading"
   ]
  },
  {
   "cell_type": "code",
   "execution_count": 29,
   "metadata": {
    "ExecuteTime": {
     "end_time": "2018-03-04T23:44:52.560838",
     "start_time": "2018-03-04T23:44:47.605209"
    },
    "collapsed": false
   },
   "outputs": [],
   "source": [
    "chromedriver = \"/home/xu/Desktop/flask2/chromedriver\"\n",
    "os.environ[\"webdriver.chrome.driver\"] = chromedriver\n",
    "#display = Display(visible=0, size=(1600,600))\n",
    "#display.start()\n",
    "driver1 = webdriver.Chrome(chromedriver,port = 9515)\n",
    "\n",
    "driver1.maximize_window()\n",
    "all_URL = \"https://www.lagou.com/jobs/list_%E6%95%B0%E6%8D%AE%E6%8C%96%E6%8E%98?px=default&city=%E5%85%A8%E5%9B%BD#filterBox\"\n",
    "shanghai_URL = \"https://www.lagou.com/jobs/list_%E6%95%B0%E6%8D%AE%E6%8C%96%E6%8E%98?px=default&city=%E4%B8%8A%E6%B5%B7#filterBox\"\n",
    "beijing_URL = \"https://www.lagou.com/jobs/list_%E6%95%B0%E6%8D%AE%E6%8C%96%E6%8E%98?px=default&city=%E5%8C%97%E4%BA%AC#filterBox\"\n",
    "driver1.get(beijing_URL)"
   ]
  },
  {
   "cell_type": "code",
   "execution_count": 30,
   "metadata": {
    "ExecuteTime": {
     "end_time": "2018-03-04T23:45:39.399374",
     "start_time": "2018-03-04T23:44:55.231724"
    },
    "collapsed": false,
    "scrolled": true
   },
   "outputs": [
    {
     "name": "stdout",
     "output_type": "stream",
     "text": [
      "------------------------- 1 -------------------------\n",
      "------------------------- 2 -------------------------\n",
      "------------------------- 3 -------------------------\n",
      "------------------------- 4 -------------------------\n",
      "------------------------- 5 -------------------------\n",
      "------------------------- 6 -------------------------\n",
      "------------------------- 7 -------------------------\n",
      "------------------------- 8 -------------------------\n",
      "------------------------- 9 -------------------------\n",
      "------------------------- 10 -------------------------\n",
      "------------------------- 11 -------------------------\n",
      "------------------------- 12 -------------------------\n",
      "------------------------- 13 -------------------------\n",
      "------------------------- 14 -------------------------\n",
      "------------------------- 15 -------------------------\n",
      "------------------------- 16 -------------------------\n",
      "------------------------- 17 -------------------------\n",
      "------------------------- 18 -------------------------\n",
      "------------------------- 19 -------------------------\n",
      "------------------------- 20 -------------------------\n",
      "------------------------- 21 -------------------------\n",
      "------------------------- 22 -------------------------\n",
      "------------------------- 23 -------------------------\n",
      "------------------------- 24 -------------------------\n",
      "------------------------- 25 -------------------------\n",
      "------------------------- 26 -------------------------\n",
      "------------------------- 27 -------------------------\n",
      "------------------------- 28 -------------------------\n",
      "------------------------- 29 -------------------------\n",
      "------------------------- 30 -------------------------\n"
     ]
    }
   ],
   "source": [
    "f = open('datamining_beijing.log','w')\n",
    "last_flag_id = \"init\"\n",
    "\n",
    "while True:\n",
    "    #content_list = driver1.find_elements_by_class_name('c-container')\n",
    "    #WebDriverWait(driver1, 10).until(EC.presence_of_all_elements_located((By.CLASS_NAME, 'c-container')))\n",
    "    while True:\n",
    "        time.sleep(1)\n",
    "        content = driver1.find_element_by_css_selector(\"#s_position_list .item_con_list\")\\\n",
    "        .find_elements_by_tag_name('li')\n",
    "        curr_flag_id = content[0].id\n",
    "        #print(last_flag_id,curr_flag_id)\n",
    "        if curr_flag_id != last_flag_id:\n",
    "            last_flag_id = curr_flag_id\n",
    "            break\n",
    "        else:\n",
    "            time.sleep(2)\n",
    "    #x1 = content.find_elements_by_tag_name('li')\n",
    "    for x2 in content:\n",
    "        x3 = x2.find_elements_by_tag_name('a')\n",
    "        for x4 in x3:\n",
    "            url = x4.get_attribute('href')\n",
    "            if \"jobs\" in url:\n",
    "                print(url,file=f)\n",
    "                #Q.put(url)\n",
    "                break;\n",
    "\n",
    "    driver1.execute_script(\"window.scrollTo(0, document.body.scrollHeight);\")\n",
    "    #pages = driver1.find_element_by_id(\"page\").fi`nd_elements_by_tag_name('a')\n",
    "    #page = WebDriverWait(driver1, 10).until(EC.presence_of_element_located((By.ID, 'page')))\n",
    "    #page_num = page.find_element_by_tag_name('strong').text\n",
    "    page = driver1.find_element_by_class_name(\"pager_container\")\n",
    "    page_next = page.find_element_by_class_name(\"pager_next\")\n",
    "    pager_next_disabled =page.find_elements_by_class_name(\"pager_next_disabled\")\n",
    "    pager_is_current = page.find_element_by_class_name(\"pager_is_current\")\n",
    "    print(\"-------------------------\",pager_is_current.text,\"-------------------------\")    \n",
    "    if pager_next_disabled:\n",
    "        break\n",
    "    else:\n",
    "        page_next.click()\n",
    "f.close()"
   ]
  },
  {
   "cell_type": "code",
   "execution_count": 25,
   "metadata": {
    "ExecuteTime": {
     "end_time": "2018-03-04T23:40:44.663609",
     "start_time": "2018-03-04T23:40:44.649136"
    },
    "collapsed": false,
    "scrolled": true
   },
   "outputs": [
    {
     "ename": "ConnectionRefusedError",
     "evalue": "[Errno 111] Connection refused",
     "output_type": "error",
     "traceback": [
      "\u001b[0;31m---------------------------------------------------------------------------\u001b[0m",
      "\u001b[0;31mConnectionRefusedError\u001b[0m                    Traceback (most recent call last)",
      "\u001b[0;32m<ipython-input-25-2f756d754098>\u001b[0m in \u001b[0;36m<module>\u001b[0;34m()\u001b[0m\n\u001b[0;32m----> 1\u001b[0;31m \u001b[0mdriver1\u001b[0m\u001b[0;34m.\u001b[0m\u001b[0mfind_element_by_class_name\u001b[0m\u001b[0;34m(\u001b[0m\u001b[0;34m'pager_container'\u001b[0m\u001b[0;34m)\u001b[0m\u001b[0;34m\u001b[0m\u001b[0m\n\u001b[0m",
      "\u001b[0;32m/home/xu/venv/lib/python3.5/site-packages/selenium/webdriver/remote/webdriver.py\u001b[0m in \u001b[0;36mfind_element_by_class_name\u001b[0;34m(self, name)\u001b[0m\n\u001b[1;32m    553\u001b[0m             \u001b[0melement\u001b[0m \u001b[0;34m=\u001b[0m \u001b[0mdriver\u001b[0m\u001b[0;34m.\u001b[0m\u001b[0mfind_element_by_class_name\u001b[0m\u001b[0;34m(\u001b[0m\u001b[0;34m'foo'\u001b[0m\u001b[0;34m)\u001b[0m\u001b[0;34m\u001b[0m\u001b[0m\n\u001b[1;32m    554\u001b[0m         \"\"\"\n\u001b[0;32m--> 555\u001b[0;31m         \u001b[0;32mreturn\u001b[0m \u001b[0mself\u001b[0m\u001b[0;34m.\u001b[0m\u001b[0mfind_element\u001b[0m\u001b[0;34m(\u001b[0m\u001b[0mby\u001b[0m\u001b[0;34m=\u001b[0m\u001b[0mBy\u001b[0m\u001b[0;34m.\u001b[0m\u001b[0mCLASS_NAME\u001b[0m\u001b[0;34m,\u001b[0m \u001b[0mvalue\u001b[0m\u001b[0;34m=\u001b[0m\u001b[0mname\u001b[0m\u001b[0;34m)\u001b[0m\u001b[0;34m\u001b[0m\u001b[0m\n\u001b[0m\u001b[1;32m    556\u001b[0m \u001b[0;34m\u001b[0m\u001b[0m\n\u001b[1;32m    557\u001b[0m     \u001b[0;32mdef\u001b[0m \u001b[0mfind_elements_by_class_name\u001b[0m\u001b[0;34m(\u001b[0m\u001b[0mself\u001b[0m\u001b[0;34m,\u001b[0m \u001b[0mname\u001b[0m\u001b[0;34m)\u001b[0m\u001b[0;34m:\u001b[0m\u001b[0;34m\u001b[0m\u001b[0m\n",
      "\u001b[0;32m/home/xu/venv/lib/python3.5/site-packages/selenium/webdriver/remote/webdriver.py\u001b[0m in \u001b[0;36mfind_element\u001b[0;34m(self, by, value)\u001b[0m\n\u001b[1;32m    953\u001b[0m         return self.execute(Command.FIND_ELEMENT, {\n\u001b[1;32m    954\u001b[0m             \u001b[0;34m'using'\u001b[0m\u001b[0;34m:\u001b[0m \u001b[0mby\u001b[0m\u001b[0;34m,\u001b[0m\u001b[0;34m\u001b[0m\u001b[0m\n\u001b[0;32m--> 955\u001b[0;31m             'value': value})['value']\n\u001b[0m\u001b[1;32m    956\u001b[0m \u001b[0;34m\u001b[0m\u001b[0m\n\u001b[1;32m    957\u001b[0m     \u001b[0;32mdef\u001b[0m \u001b[0mfind_elements\u001b[0m\u001b[0;34m(\u001b[0m\u001b[0mself\u001b[0m\u001b[0;34m,\u001b[0m \u001b[0mby\u001b[0m\u001b[0;34m=\u001b[0m\u001b[0mBy\u001b[0m\u001b[0;34m.\u001b[0m\u001b[0mID\u001b[0m\u001b[0;34m,\u001b[0m \u001b[0mvalue\u001b[0m\u001b[0;34m=\u001b[0m\u001b[0;32mNone\u001b[0m\u001b[0;34m)\u001b[0m\u001b[0;34m:\u001b[0m\u001b[0;34m\u001b[0m\u001b[0m\n",
      "\u001b[0;32m/home/xu/venv/lib/python3.5/site-packages/selenium/webdriver/remote/webdriver.py\u001b[0m in \u001b[0;36mexecute\u001b[0;34m(self, driver_command, params)\u001b[0m\n\u001b[1;32m    308\u001b[0m \u001b[0;34m\u001b[0m\u001b[0m\n\u001b[1;32m    309\u001b[0m         \u001b[0mparams\u001b[0m \u001b[0;34m=\u001b[0m \u001b[0mself\u001b[0m\u001b[0;34m.\u001b[0m\u001b[0m_wrap_value\u001b[0m\u001b[0;34m(\u001b[0m\u001b[0mparams\u001b[0m\u001b[0;34m)\u001b[0m\u001b[0;34m\u001b[0m\u001b[0m\n\u001b[0;32m--> 310\u001b[0;31m         \u001b[0mresponse\u001b[0m \u001b[0;34m=\u001b[0m \u001b[0mself\u001b[0m\u001b[0;34m.\u001b[0m\u001b[0mcommand_executor\u001b[0m\u001b[0;34m.\u001b[0m\u001b[0mexecute\u001b[0m\u001b[0;34m(\u001b[0m\u001b[0mdriver_command\u001b[0m\u001b[0;34m,\u001b[0m \u001b[0mparams\u001b[0m\u001b[0;34m)\u001b[0m\u001b[0;34m\u001b[0m\u001b[0m\n\u001b[0m\u001b[1;32m    311\u001b[0m         \u001b[0;32mif\u001b[0m \u001b[0mresponse\u001b[0m\u001b[0;34m:\u001b[0m\u001b[0;34m\u001b[0m\u001b[0m\n\u001b[1;32m    312\u001b[0m             \u001b[0mself\u001b[0m\u001b[0;34m.\u001b[0m\u001b[0merror_handler\u001b[0m\u001b[0;34m.\u001b[0m\u001b[0mcheck_response\u001b[0m\u001b[0;34m(\u001b[0m\u001b[0mresponse\u001b[0m\u001b[0;34m)\u001b[0m\u001b[0;34m\u001b[0m\u001b[0m\n",
      "\u001b[0;32m/home/xu/venv/lib/python3.5/site-packages/selenium/webdriver/remote/remote_connection.py\u001b[0m in \u001b[0;36mexecute\u001b[0;34m(self, command, params)\u001b[0m\n\u001b[1;32m    464\u001b[0m         \u001b[0mdata\u001b[0m \u001b[0;34m=\u001b[0m \u001b[0mutils\u001b[0m\u001b[0;34m.\u001b[0m\u001b[0mdump_json\u001b[0m\u001b[0;34m(\u001b[0m\u001b[0mparams\u001b[0m\u001b[0;34m)\u001b[0m\u001b[0;34m\u001b[0m\u001b[0m\n\u001b[1;32m    465\u001b[0m         \u001b[0murl\u001b[0m \u001b[0;34m=\u001b[0m \u001b[0;34m'%s%s'\u001b[0m \u001b[0;34m%\u001b[0m \u001b[0;34m(\u001b[0m\u001b[0mself\u001b[0m\u001b[0;34m.\u001b[0m\u001b[0m_url\u001b[0m\u001b[0;34m,\u001b[0m \u001b[0mpath\u001b[0m\u001b[0;34m)\u001b[0m\u001b[0;34m\u001b[0m\u001b[0m\n\u001b[0;32m--> 466\u001b[0;31m         \u001b[0;32mreturn\u001b[0m \u001b[0mself\u001b[0m\u001b[0;34m.\u001b[0m\u001b[0m_request\u001b[0m\u001b[0;34m(\u001b[0m\u001b[0mcommand_info\u001b[0m\u001b[0;34m[\u001b[0m\u001b[0;36m0\u001b[0m\u001b[0;34m]\u001b[0m\u001b[0;34m,\u001b[0m \u001b[0murl\u001b[0m\u001b[0;34m,\u001b[0m \u001b[0mbody\u001b[0m\u001b[0;34m=\u001b[0m\u001b[0mdata\u001b[0m\u001b[0;34m)\u001b[0m\u001b[0;34m\u001b[0m\u001b[0m\n\u001b[0m\u001b[1;32m    467\u001b[0m \u001b[0;34m\u001b[0m\u001b[0m\n\u001b[1;32m    468\u001b[0m     \u001b[0;32mdef\u001b[0m \u001b[0m_request\u001b[0m\u001b[0;34m(\u001b[0m\u001b[0mself\u001b[0m\u001b[0;34m,\u001b[0m \u001b[0mmethod\u001b[0m\u001b[0;34m,\u001b[0m \u001b[0murl\u001b[0m\u001b[0;34m,\u001b[0m \u001b[0mbody\u001b[0m\u001b[0;34m=\u001b[0m\u001b[0;32mNone\u001b[0m\u001b[0;34m)\u001b[0m\u001b[0;34m:\u001b[0m\u001b[0;34m\u001b[0m\u001b[0m\n",
      "\u001b[0;32m/home/xu/venv/lib/python3.5/site-packages/selenium/webdriver/remote/remote_connection.py\u001b[0m in \u001b[0;36m_request\u001b[0;34m(self, method, url, body)\u001b[0m\n\u001b[1;32m    487\u001b[0m                 \u001b[0mbody\u001b[0m \u001b[0;34m=\u001b[0m \u001b[0;32mNone\u001b[0m\u001b[0;34m\u001b[0m\u001b[0m\n\u001b[1;32m    488\u001b[0m             \u001b[0;32mtry\u001b[0m\u001b[0;34m:\u001b[0m\u001b[0;34m\u001b[0m\u001b[0m\n\u001b[0;32m--> 489\u001b[0;31m                 \u001b[0mself\u001b[0m\u001b[0;34m.\u001b[0m\u001b[0m_conn\u001b[0m\u001b[0;34m.\u001b[0m\u001b[0mrequest\u001b[0m\u001b[0;34m(\u001b[0m\u001b[0mmethod\u001b[0m\u001b[0;34m,\u001b[0m \u001b[0mparsed_url\u001b[0m\u001b[0;34m.\u001b[0m\u001b[0mpath\u001b[0m\u001b[0;34m,\u001b[0m \u001b[0mbody\u001b[0m\u001b[0;34m,\u001b[0m \u001b[0mheaders\u001b[0m\u001b[0;34m)\u001b[0m\u001b[0;34m\u001b[0m\u001b[0m\n\u001b[0m\u001b[1;32m    490\u001b[0m                 \u001b[0mresp\u001b[0m \u001b[0;34m=\u001b[0m \u001b[0mself\u001b[0m\u001b[0;34m.\u001b[0m\u001b[0m_conn\u001b[0m\u001b[0;34m.\u001b[0m\u001b[0mgetresponse\u001b[0m\u001b[0;34m(\u001b[0m\u001b[0;34m)\u001b[0m\u001b[0;34m\u001b[0m\u001b[0m\n\u001b[1;32m    491\u001b[0m             \u001b[0;32mexcept\u001b[0m \u001b[0;34m(\u001b[0m\u001b[0mhttplib\u001b[0m\u001b[0;34m.\u001b[0m\u001b[0mHTTPException\u001b[0m\u001b[0;34m,\u001b[0m \u001b[0msocket\u001b[0m\u001b[0;34m.\u001b[0m\u001b[0merror\u001b[0m\u001b[0;34m)\u001b[0m\u001b[0;34m:\u001b[0m\u001b[0;34m\u001b[0m\u001b[0m\n",
      "\u001b[0;32m/usr/lib/python3.5/http/client.py\u001b[0m in \u001b[0;36mrequest\u001b[0;34m(self, method, url, body, headers)\u001b[0m\n\u001b[1;32m   1104\u001b[0m     \u001b[0;32mdef\u001b[0m \u001b[0mrequest\u001b[0m\u001b[0;34m(\u001b[0m\u001b[0mself\u001b[0m\u001b[0;34m,\u001b[0m \u001b[0mmethod\u001b[0m\u001b[0;34m,\u001b[0m \u001b[0murl\u001b[0m\u001b[0;34m,\u001b[0m \u001b[0mbody\u001b[0m\u001b[0;34m=\u001b[0m\u001b[0;32mNone\u001b[0m\u001b[0;34m,\u001b[0m \u001b[0mheaders\u001b[0m\u001b[0;34m=\u001b[0m\u001b[0;34m{\u001b[0m\u001b[0;34m}\u001b[0m\u001b[0;34m)\u001b[0m\u001b[0;34m:\u001b[0m\u001b[0;34m\u001b[0m\u001b[0m\n\u001b[1;32m   1105\u001b[0m         \u001b[0;34m\"\"\"Send a complete request to the server.\"\"\"\u001b[0m\u001b[0;34m\u001b[0m\u001b[0m\n\u001b[0;32m-> 1106\u001b[0;31m         \u001b[0mself\u001b[0m\u001b[0;34m.\u001b[0m\u001b[0m_send_request\u001b[0m\u001b[0;34m(\u001b[0m\u001b[0mmethod\u001b[0m\u001b[0;34m,\u001b[0m \u001b[0murl\u001b[0m\u001b[0;34m,\u001b[0m \u001b[0mbody\u001b[0m\u001b[0;34m,\u001b[0m \u001b[0mheaders\u001b[0m\u001b[0;34m)\u001b[0m\u001b[0;34m\u001b[0m\u001b[0m\n\u001b[0m\u001b[1;32m   1107\u001b[0m \u001b[0;34m\u001b[0m\u001b[0m\n\u001b[1;32m   1108\u001b[0m     \u001b[0;32mdef\u001b[0m \u001b[0m_set_content_length\u001b[0m\u001b[0;34m(\u001b[0m\u001b[0mself\u001b[0m\u001b[0;34m,\u001b[0m \u001b[0mbody\u001b[0m\u001b[0;34m,\u001b[0m \u001b[0mmethod\u001b[0m\u001b[0;34m)\u001b[0m\u001b[0;34m:\u001b[0m\u001b[0;34m\u001b[0m\u001b[0m\n",
      "\u001b[0;32m/usr/lib/python3.5/http/client.py\u001b[0m in \u001b[0;36m_send_request\u001b[0;34m(self, method, url, body, headers)\u001b[0m\n\u001b[1;32m   1149\u001b[0m             \u001b[0;31m# default charset of iso-8859-1.\u001b[0m\u001b[0;34m\u001b[0m\u001b[0;34m\u001b[0m\u001b[0m\n\u001b[1;32m   1150\u001b[0m             \u001b[0mbody\u001b[0m \u001b[0;34m=\u001b[0m \u001b[0m_encode\u001b[0m\u001b[0;34m(\u001b[0m\u001b[0mbody\u001b[0m\u001b[0;34m,\u001b[0m \u001b[0;34m'body'\u001b[0m\u001b[0;34m)\u001b[0m\u001b[0;34m\u001b[0m\u001b[0m\n\u001b[0;32m-> 1151\u001b[0;31m         \u001b[0mself\u001b[0m\u001b[0;34m.\u001b[0m\u001b[0mendheaders\u001b[0m\u001b[0;34m(\u001b[0m\u001b[0mbody\u001b[0m\u001b[0;34m)\u001b[0m\u001b[0;34m\u001b[0m\u001b[0m\n\u001b[0m\u001b[1;32m   1152\u001b[0m \u001b[0;34m\u001b[0m\u001b[0m\n\u001b[1;32m   1153\u001b[0m     \u001b[0;32mdef\u001b[0m \u001b[0mgetresponse\u001b[0m\u001b[0;34m(\u001b[0m\u001b[0mself\u001b[0m\u001b[0;34m)\u001b[0m\u001b[0;34m:\u001b[0m\u001b[0;34m\u001b[0m\u001b[0m\n",
      "\u001b[0;32m/usr/lib/python3.5/http/client.py\u001b[0m in \u001b[0;36mendheaders\u001b[0;34m(self, message_body)\u001b[0m\n\u001b[1;32m   1100\u001b[0m         \u001b[0;32melse\u001b[0m\u001b[0;34m:\u001b[0m\u001b[0;34m\u001b[0m\u001b[0m\n\u001b[1;32m   1101\u001b[0m             \u001b[0;32mraise\u001b[0m \u001b[0mCannotSendHeader\u001b[0m\u001b[0;34m(\u001b[0m\u001b[0;34m)\u001b[0m\u001b[0;34m\u001b[0m\u001b[0m\n\u001b[0;32m-> 1102\u001b[0;31m         \u001b[0mself\u001b[0m\u001b[0;34m.\u001b[0m\u001b[0m_send_output\u001b[0m\u001b[0;34m(\u001b[0m\u001b[0mmessage_body\u001b[0m\u001b[0;34m)\u001b[0m\u001b[0;34m\u001b[0m\u001b[0m\n\u001b[0m\u001b[1;32m   1103\u001b[0m \u001b[0;34m\u001b[0m\u001b[0m\n\u001b[1;32m   1104\u001b[0m     \u001b[0;32mdef\u001b[0m \u001b[0mrequest\u001b[0m\u001b[0;34m(\u001b[0m\u001b[0mself\u001b[0m\u001b[0;34m,\u001b[0m \u001b[0mmethod\u001b[0m\u001b[0;34m,\u001b[0m \u001b[0murl\u001b[0m\u001b[0;34m,\u001b[0m \u001b[0mbody\u001b[0m\u001b[0;34m=\u001b[0m\u001b[0;32mNone\u001b[0m\u001b[0;34m,\u001b[0m \u001b[0mheaders\u001b[0m\u001b[0;34m=\u001b[0m\u001b[0;34m{\u001b[0m\u001b[0;34m}\u001b[0m\u001b[0;34m)\u001b[0m\u001b[0;34m:\u001b[0m\u001b[0;34m\u001b[0m\u001b[0m\n",
      "\u001b[0;32m/usr/lib/python3.5/http/client.py\u001b[0m in \u001b[0;36m_send_output\u001b[0;34m(self, message_body)\u001b[0m\n\u001b[1;32m    932\u001b[0m         \u001b[0;32mdel\u001b[0m \u001b[0mself\u001b[0m\u001b[0;34m.\u001b[0m\u001b[0m_buffer\u001b[0m\u001b[0;34m[\u001b[0m\u001b[0;34m:\u001b[0m\u001b[0;34m]\u001b[0m\u001b[0;34m\u001b[0m\u001b[0m\n\u001b[1;32m    933\u001b[0m \u001b[0;34m\u001b[0m\u001b[0m\n\u001b[0;32m--> 934\u001b[0;31m         \u001b[0mself\u001b[0m\u001b[0;34m.\u001b[0m\u001b[0msend\u001b[0m\u001b[0;34m(\u001b[0m\u001b[0mmsg\u001b[0m\u001b[0;34m)\u001b[0m\u001b[0;34m\u001b[0m\u001b[0m\n\u001b[0m\u001b[1;32m    935\u001b[0m         \u001b[0;32mif\u001b[0m \u001b[0mmessage_body\u001b[0m \u001b[0;32mis\u001b[0m \u001b[0;32mnot\u001b[0m \u001b[0;32mNone\u001b[0m\u001b[0;34m:\u001b[0m\u001b[0;34m\u001b[0m\u001b[0m\n\u001b[1;32m    936\u001b[0m             \u001b[0mself\u001b[0m\u001b[0;34m.\u001b[0m\u001b[0msend\u001b[0m\u001b[0;34m(\u001b[0m\u001b[0mmessage_body\u001b[0m\u001b[0;34m)\u001b[0m\u001b[0;34m\u001b[0m\u001b[0m\n",
      "\u001b[0;32m/usr/lib/python3.5/http/client.py\u001b[0m in \u001b[0;36msend\u001b[0;34m(self, data)\u001b[0m\n\u001b[1;32m    875\u001b[0m         \u001b[0;32mif\u001b[0m \u001b[0mself\u001b[0m\u001b[0;34m.\u001b[0m\u001b[0msock\u001b[0m \u001b[0;32mis\u001b[0m \u001b[0;32mNone\u001b[0m\u001b[0;34m:\u001b[0m\u001b[0;34m\u001b[0m\u001b[0m\n\u001b[1;32m    876\u001b[0m             \u001b[0;32mif\u001b[0m \u001b[0mself\u001b[0m\u001b[0;34m.\u001b[0m\u001b[0mauto_open\u001b[0m\u001b[0;34m:\u001b[0m\u001b[0;34m\u001b[0m\u001b[0m\n\u001b[0;32m--> 877\u001b[0;31m                 \u001b[0mself\u001b[0m\u001b[0;34m.\u001b[0m\u001b[0mconnect\u001b[0m\u001b[0;34m(\u001b[0m\u001b[0;34m)\u001b[0m\u001b[0;34m\u001b[0m\u001b[0m\n\u001b[0m\u001b[1;32m    878\u001b[0m             \u001b[0;32melse\u001b[0m\u001b[0;34m:\u001b[0m\u001b[0;34m\u001b[0m\u001b[0m\n\u001b[1;32m    879\u001b[0m                 \u001b[0;32mraise\u001b[0m \u001b[0mNotConnected\u001b[0m\u001b[0;34m(\u001b[0m\u001b[0;34m)\u001b[0m\u001b[0;34m\u001b[0m\u001b[0m\n",
      "\u001b[0;32m/usr/lib/python3.5/http/client.py\u001b[0m in \u001b[0;36mconnect\u001b[0;34m(self)\u001b[0m\n\u001b[1;32m    847\u001b[0m         \u001b[0;34m\"\"\"Connect to the host and port specified in __init__.\"\"\"\u001b[0m\u001b[0;34m\u001b[0m\u001b[0m\n\u001b[1;32m    848\u001b[0m         self.sock = self._create_connection(\n\u001b[0;32m--> 849\u001b[0;31m             (self.host,self.port), self.timeout, self.source_address)\n\u001b[0m\u001b[1;32m    850\u001b[0m         \u001b[0mself\u001b[0m\u001b[0;34m.\u001b[0m\u001b[0msock\u001b[0m\u001b[0;34m.\u001b[0m\u001b[0msetsockopt\u001b[0m\u001b[0;34m(\u001b[0m\u001b[0msocket\u001b[0m\u001b[0;34m.\u001b[0m\u001b[0mIPPROTO_TCP\u001b[0m\u001b[0;34m,\u001b[0m \u001b[0msocket\u001b[0m\u001b[0;34m.\u001b[0m\u001b[0mTCP_NODELAY\u001b[0m\u001b[0;34m,\u001b[0m \u001b[0;36m1\u001b[0m\u001b[0;34m)\u001b[0m\u001b[0;34m\u001b[0m\u001b[0m\n\u001b[1;32m    851\u001b[0m \u001b[0;34m\u001b[0m\u001b[0m\n",
      "\u001b[0;32m/usr/lib/python3.5/socket.py\u001b[0m in \u001b[0;36mcreate_connection\u001b[0;34m(address, timeout, source_address)\u001b[0m\n\u001b[1;32m    709\u001b[0m \u001b[0;34m\u001b[0m\u001b[0m\n\u001b[1;32m    710\u001b[0m     \u001b[0;32mif\u001b[0m \u001b[0merr\u001b[0m \u001b[0;32mis\u001b[0m \u001b[0;32mnot\u001b[0m \u001b[0;32mNone\u001b[0m\u001b[0;34m:\u001b[0m\u001b[0;34m\u001b[0m\u001b[0m\n\u001b[0;32m--> 711\u001b[0;31m         \u001b[0;32mraise\u001b[0m \u001b[0merr\u001b[0m\u001b[0;34m\u001b[0m\u001b[0m\n\u001b[0m\u001b[1;32m    712\u001b[0m     \u001b[0;32melse\u001b[0m\u001b[0;34m:\u001b[0m\u001b[0;34m\u001b[0m\u001b[0m\n\u001b[1;32m    713\u001b[0m         \u001b[0;32mraise\u001b[0m \u001b[0merror\u001b[0m\u001b[0;34m(\u001b[0m\u001b[0;34m\"getaddrinfo returns an empty list\"\u001b[0m\u001b[0;34m)\u001b[0m\u001b[0;34m\u001b[0m\u001b[0m\n",
      "\u001b[0;32m/usr/lib/python3.5/socket.py\u001b[0m in \u001b[0;36mcreate_connection\u001b[0;34m(address, timeout, source_address)\u001b[0m\n\u001b[1;32m    700\u001b[0m             \u001b[0;32mif\u001b[0m \u001b[0msource_address\u001b[0m\u001b[0;34m:\u001b[0m\u001b[0;34m\u001b[0m\u001b[0m\n\u001b[1;32m    701\u001b[0m                 \u001b[0msock\u001b[0m\u001b[0;34m.\u001b[0m\u001b[0mbind\u001b[0m\u001b[0;34m(\u001b[0m\u001b[0msource_address\u001b[0m\u001b[0;34m)\u001b[0m\u001b[0;34m\u001b[0m\u001b[0m\n\u001b[0;32m--> 702\u001b[0;31m             \u001b[0msock\u001b[0m\u001b[0;34m.\u001b[0m\u001b[0mconnect\u001b[0m\u001b[0;34m(\u001b[0m\u001b[0msa\u001b[0m\u001b[0;34m)\u001b[0m\u001b[0;34m\u001b[0m\u001b[0m\n\u001b[0m\u001b[1;32m    703\u001b[0m             \u001b[0;32mreturn\u001b[0m \u001b[0msock\u001b[0m\u001b[0;34m\u001b[0m\u001b[0m\n\u001b[1;32m    704\u001b[0m \u001b[0;34m\u001b[0m\u001b[0m\n",
      "\u001b[0;31mConnectionRefusedError\u001b[0m: [Errno 111] Connection refused"
     ]
    }
   ],
   "source": [
    "driver1.find_element_by_class_name('pager_container')"
   ]
  },
  {
   "cell_type": "code",
   "execution_count": 138,
   "metadata": {
    "ExecuteTime": {
     "end_time": "2018-03-02T22:18:06.755567",
     "start_time": "2018-03-02T22:18:06.734090"
    },
    "collapsed": false
   },
   "outputs": [],
   "source": [
    "x1 = content.find_elements_by_tag_name('li')"
   ]
  },
  {
   "cell_type": "code",
   "execution_count": 135,
   "metadata": {
    "ExecuteTime": {
     "end_time": "2018-03-02T22:15:51.045250",
     "start_time": "2018-03-02T22:15:51.030973"
    },
    "collapsed": false
   },
   "outputs": [
    {
     "data": {
      "text/plain": [
       "'0.5766438115212016-1'"
      ]
     },
     "execution_count": 135,
     "metadata": {},
     "output_type": "execute_result"
    }
   ],
   "source": [
    "driver1.find_element_by_css_selector(\"#s_position_list .item_con_list\").id"
   ]
  },
  {
   "cell_type": "code",
   "execution_count": 125,
   "metadata": {
    "ExecuteTime": {
     "end_time": "2018-03-02T22:05:59.860467",
     "start_time": "2018-03-02T22:05:59.803419"
    },
    "collapsed": false
   },
   "outputs": [
    {
     "data": {
      "text/plain": [
       "'2'"
      ]
     },
     "execution_count": 125,
     "metadata": {},
     "output_type": "execute_result"
    }
   ],
   "source": [
    "page = driver1.find_element_by_class_name(\"pager_container\")\n",
    "page.find_element_by_class_name(\"pager_is_current\").text"
   ]
  },
  {
   "cell_type": "code",
   "execution_count": 174,
   "metadata": {
    "ExecuteTime": {
     "end_time": "2018-03-03T14:10:46.125012",
     "start_time": "2018-03-03T14:10:46.121858"
    },
    "collapsed": false
   },
   "outputs": [],
   "source": [
    "\n",
    "f=open('ddd','w')"
   ]
  },
  {
   "cell_type": "code",
   "execution_count": 177,
   "metadata": {
    "ExecuteTime": {
     "end_time": "2018-03-03T14:10:49.363936",
     "start_time": "2018-03-03T14:10:49.358919"
    },
    "collapsed": false
   },
   "outputs": [],
   "source": [
    "f.writelines(['dsds'])"
   ]
  },
  {
   "cell_type": "code",
   "execution_count": 178,
   "metadata": {
    "ExecuteTime": {
     "end_time": "2018-03-03T14:10:49.963342",
     "start_time": "2018-03-03T14:10:49.957688"
    },
    "collapsed": true
   },
   "outputs": [],
   "source": [
    "f.close()"
   ]
  },
  {
   "cell_type": "code",
   "execution_count": 165,
   "metadata": {
    "ExecuteTime": {
     "end_time": "2018-03-03T14:09:31.729027",
     "start_time": "2018-03-03T14:09:31.415223"
    },
    "collapsed": true
   },
   "outputs": [],
   "source": [
    "cat ddd"
   ]
  },
  {
   "cell_type": "code",
   "execution_count": 189,
   "metadata": {
    "ExecuteTime": {
     "end_time": "2018-03-03T14:13:42.440633",
     "start_time": "2018-03-03T14:13:42.437132"
    },
    "collapsed": false
   },
   "outputs": [
    {
     "data": {
      "text/plain": [
       "'22,33,dssdsd,edfdf'"
      ]
     },
     "execution_count": 189,
     "metadata": {},
     "output_type": "execute_result"
    }
   ],
   "source": [
    "','.join(('22','33','dssdsd','edfdf'))"
   ]
  },
  {
   "cell_type": "code",
   "execution_count": null,
   "metadata": {
    "collapsed": true
   },
   "outputs": [],
   "source": [
    "threading.Thread"
   ]
  },
  {
   "cell_type": "code",
   "execution_count": 335,
   "metadata": {
    "ExecuteTime": {
     "end_time": "2018-03-03T21:41:02.472769",
     "start_time": "2018-03-03T21:41:02.360408"
    },
    "code_folding": [
     0
    ],
    "collapsed": false
   },
   "outputs": [],
   "source": [
    "class BaseThread():  # 继承父类threading.Thread\n",
    "    def __init__(self,Q,name):\n",
    "        #threading.Thread.__init__(self)\n",
    "        self.Q = Q\n",
    "        self.name = name\n",
    "        self.session = HTMLSession()\n",
    "        self.f = open(name+'.csv','w')\n",
    "        self.f.write('job_name,job_request,position_label,job_advantage,description,work_addr,\\\n",
    "        company_name,comp_domain,comp_stage,comp_scale,comp_invest,lagou_page,comp_index_page\\n')\n",
    "    def run(self):\n",
    "        while True:\n",
    "            url = Q.get()\n",
    "            #time.sleep(3+2*random.random())\n",
    "            if url is not None:\n",
    "                job_data = self.get_content(url)\n",
    "                print(','.join(job_data),file=self.f)\n",
    "                self.f.flush()\n",
    "            else:\n",
    "                print('done!!!')\n",
    "                Q.put(None)\n",
    "                self.f.close()\n",
    "                break\n",
    "    def get_content(self,url):\n",
    "        r = self.session.get(url)\n",
    "        r.html.render()\n",
    "        print(r.html.find('title')[0].text,self.name,url)\n",
    "        positioncontent = r.html.find(\".position-content\")[0]\n",
    "        job_name = positioncontent.find('.name')[0].text\n",
    "        job_request = positioncontent.find('.job_request')[0].find(' p')[0].text\n",
    "        position_label= positioncontent.find('.position-label')[0].text\n",
    "        job_detail = r.html.find(\"#job_detail\")[0]\n",
    "        job_advantage = job_detail.find('.job-advantage')[0].find('p')[0].text\n",
    "        description = job_detail.find('.job_bt')[0].text\n",
    "        work_addr = job_detail.find('.work_addr')[0].text\n",
    "        work_addr = work_addr[:-5].strip()\n",
    "        job_company = r.html.find('#job_company')[0]\n",
    "        job_company = r.html.find('#job_company')[0]\n",
    "        dict_comp = {}\n",
    "        comp_name = job_company.find('.fl')[0].text\n",
    "        lg_renzheng = job_company.find('.dn')[0].text\n",
    "        comp_name = comp_name.replace(lg_renzheng,'').strip()\n",
    "\n",
    "        for li in job_company.find('li'):\n",
    "            key = li.find('.hovertips')[0].text\n",
    "            value = li.text.replace(key,'').strip()\n",
    "            dict_comp[key]=value\n",
    "\n",
    "        comp_domain = dict_comp.get('领域','')\n",
    "        comp_stage = dict_comp.get('发展阶段','')\n",
    "        comp_scale = dict_comp.get('规模','')\n",
    "        comp_invest = dict_comp.get('投资机构','')\n",
    "        for link in job_company.absolute_links:\n",
    "            if 'lagou.com/gongsi' in link:\n",
    "                lagou_page = link\n",
    "            else:\n",
    "                comp_index_page = link                \n",
    "\n",
    "        job_data = job_name,job_request,position_label,job_advantage,description,work_addr,\\\n",
    "        company_name,comp_domain,comp_stage,comp_scale,comp_invest,lagou_page,comp_index_page\n",
    "        \n",
    "        return job_data"
   ]
  },
  {
   "cell_type": "code",
   "execution_count": 3,
   "metadata": {
    "ExecuteTime": {
     "end_time": "2018-03-03T22:06:37.901221",
     "start_time": "2018-03-03T22:06:37.898880"
    },
    "collapsed": true
   },
   "outputs": [],
   "source": [
    "url2 = 'https://www.lagou.com/jobs/2687818.html'"
   ]
  },
  {
   "cell_type": "code",
   "execution_count": 12,
   "metadata": {
    "ExecuteTime": {
     "end_time": "2018-03-03T22:20:02.962087",
     "start_time": "2018-03-03T22:20:02.956012"
    },
    "collapsed": false
   },
   "outputs": [
    {
     "ename": "NameError",
     "evalue": "name 'driver' is not defined",
     "output_type": "error",
     "traceback": [
      "\u001b[0;31m---------------------------------------------------------------------------\u001b[0m",
      "\u001b[0;31mNameError\u001b[0m                                 Traceback (most recent call last)",
      "\u001b[0;32m<ipython-input-12-0b3bd78ad619>\u001b[0m in \u001b[0;36m<module>\u001b[0;34m()\u001b[0m\n\u001b[0;32m----> 1\u001b[0;31m \u001b[0mdriver\u001b[0m\u001b[0;34m.\u001b[0m\u001b[0mfind_element_by_tag_name\u001b[0m\u001b[0;34m(\u001b[0m\u001b[0;34m'body'\u001b[0m\u001b[0;34m)\u001b[0m\u001b[0;34m.\u001b[0m\u001b[0msend_keys\u001b[0m\u001b[0;34m(\u001b[0m\u001b[0mKeys\u001b[0m\u001b[0;34m.\u001b[0m\u001b[0mCOMMAND\u001b[0m \u001b[0;34m+\u001b[0m \u001b[0;34m't'\u001b[0m\u001b[0;34m)\u001b[0m\u001b[0;34m\u001b[0m\u001b[0m\n\u001b[0m",
      "\u001b[0;31mNameError\u001b[0m: name 'driver' is not defined"
     ]
    }
   ],
   "source": [
    "driver.find_element_by_tag_name('body').send_keys(Keys.COMMAND + 't') "
   ]
  },
  {
   "cell_type": "code",
   "execution_count": 9,
   "metadata": {
    "ExecuteTime": {
     "end_time": "2018-03-03T22:08:48.865464",
     "start_time": "2018-03-03T22:08:48.853741"
    },
    "collapsed": false
   },
   "outputs": [],
   "source": [
    "driver1.switch_to_window('CDwindow-(D8294EAD83B7C4167E59B930588E3D4F)')"
   ]
  },
  {
   "cell_type": "code",
   "execution_count": 10,
   "metadata": {
    "ExecuteTime": {
     "end_time": "2018-03-03T22:09:11.952804",
     "start_time": "2018-03-03T22:09:01.860892"
    },
    "collapsed": false,
    "scrolled": true
   },
   "outputs": [
    {
     "ename": "KeyboardInterrupt",
     "evalue": "",
     "output_type": "error",
     "traceback": [
      "\u001b[0;31m---------------------------------------------------------------------------\u001b[0m",
      "\u001b[0;31mKeyboardInterrupt\u001b[0m                         Traceback (most recent call last)",
      "\u001b[0;32m<ipython-input-10-08ac30354856>\u001b[0m in \u001b[0;36m<module>\u001b[0;34m()\u001b[0m\n\u001b[0;32m----> 1\u001b[0;31m \u001b[0mdriver1\u001b[0m\u001b[0;34m.\u001b[0m\u001b[0mcurrent_url\u001b[0m\u001b[0;34m\u001b[0m\u001b[0m\n\u001b[0m",
      "\u001b[0;32m/home/xu/venv/lib/python3.5/site-packages/selenium/webdriver/remote/webdriver.py\u001b[0m in \u001b[0;36mcurrent_url\u001b[0;34m(self)\u001b[0m\n\u001b[1;32m    658\u001b[0m             \u001b[0mdriver\u001b[0m\u001b[0;34m.\u001b[0m\u001b[0mcurrent_url\u001b[0m\u001b[0;34m\u001b[0m\u001b[0m\n\u001b[1;32m    659\u001b[0m         \"\"\"\n\u001b[0;32m--> 660\u001b[0;31m         \u001b[0;32mreturn\u001b[0m \u001b[0mself\u001b[0m\u001b[0;34m.\u001b[0m\u001b[0mexecute\u001b[0m\u001b[0;34m(\u001b[0m\u001b[0mCommand\u001b[0m\u001b[0;34m.\u001b[0m\u001b[0mGET_CURRENT_URL\u001b[0m\u001b[0;34m)\u001b[0m\u001b[0;34m[\u001b[0m\u001b[0;34m'value'\u001b[0m\u001b[0;34m]\u001b[0m\u001b[0;34m\u001b[0m\u001b[0m\n\u001b[0m\u001b[1;32m    661\u001b[0m \u001b[0;34m\u001b[0m\u001b[0m\n\u001b[1;32m    662\u001b[0m     \u001b[0;34m@\u001b[0m\u001b[0mproperty\u001b[0m\u001b[0;34m\u001b[0m\u001b[0m\n",
      "\u001b[0;32m/home/xu/venv/lib/python3.5/site-packages/selenium/webdriver/remote/webdriver.py\u001b[0m in \u001b[0;36mexecute\u001b[0;34m(self, driver_command, params)\u001b[0m\n\u001b[1;32m    308\u001b[0m \u001b[0;34m\u001b[0m\u001b[0m\n\u001b[1;32m    309\u001b[0m         \u001b[0mparams\u001b[0m \u001b[0;34m=\u001b[0m \u001b[0mself\u001b[0m\u001b[0;34m.\u001b[0m\u001b[0m_wrap_value\u001b[0m\u001b[0;34m(\u001b[0m\u001b[0mparams\u001b[0m\u001b[0;34m)\u001b[0m\u001b[0;34m\u001b[0m\u001b[0m\n\u001b[0;32m--> 310\u001b[0;31m         \u001b[0mresponse\u001b[0m \u001b[0;34m=\u001b[0m \u001b[0mself\u001b[0m\u001b[0;34m.\u001b[0m\u001b[0mcommand_executor\u001b[0m\u001b[0;34m.\u001b[0m\u001b[0mexecute\u001b[0m\u001b[0;34m(\u001b[0m\u001b[0mdriver_command\u001b[0m\u001b[0;34m,\u001b[0m \u001b[0mparams\u001b[0m\u001b[0;34m)\u001b[0m\u001b[0;34m\u001b[0m\u001b[0m\n\u001b[0m\u001b[1;32m    311\u001b[0m         \u001b[0;32mif\u001b[0m \u001b[0mresponse\u001b[0m\u001b[0;34m:\u001b[0m\u001b[0;34m\u001b[0m\u001b[0m\n\u001b[1;32m    312\u001b[0m             \u001b[0mself\u001b[0m\u001b[0;34m.\u001b[0m\u001b[0merror_handler\u001b[0m\u001b[0;34m.\u001b[0m\u001b[0mcheck_response\u001b[0m\u001b[0;34m(\u001b[0m\u001b[0mresponse\u001b[0m\u001b[0;34m)\u001b[0m\u001b[0;34m\u001b[0m\u001b[0m\n",
      "\u001b[0;32m/home/xu/venv/lib/python3.5/site-packages/selenium/webdriver/remote/remote_connection.py\u001b[0m in \u001b[0;36mexecute\u001b[0;34m(self, command, params)\u001b[0m\n\u001b[1;32m    464\u001b[0m         \u001b[0mdata\u001b[0m \u001b[0;34m=\u001b[0m \u001b[0mutils\u001b[0m\u001b[0;34m.\u001b[0m\u001b[0mdump_json\u001b[0m\u001b[0;34m(\u001b[0m\u001b[0mparams\u001b[0m\u001b[0;34m)\u001b[0m\u001b[0;34m\u001b[0m\u001b[0m\n\u001b[1;32m    465\u001b[0m         \u001b[0murl\u001b[0m \u001b[0;34m=\u001b[0m \u001b[0;34m'%s%s'\u001b[0m \u001b[0;34m%\u001b[0m \u001b[0;34m(\u001b[0m\u001b[0mself\u001b[0m\u001b[0;34m.\u001b[0m\u001b[0m_url\u001b[0m\u001b[0;34m,\u001b[0m \u001b[0mpath\u001b[0m\u001b[0;34m)\u001b[0m\u001b[0;34m\u001b[0m\u001b[0m\n\u001b[0;32m--> 466\u001b[0;31m         \u001b[0;32mreturn\u001b[0m \u001b[0mself\u001b[0m\u001b[0;34m.\u001b[0m\u001b[0m_request\u001b[0m\u001b[0;34m(\u001b[0m\u001b[0mcommand_info\u001b[0m\u001b[0;34m[\u001b[0m\u001b[0;36m0\u001b[0m\u001b[0;34m]\u001b[0m\u001b[0;34m,\u001b[0m \u001b[0murl\u001b[0m\u001b[0;34m,\u001b[0m \u001b[0mbody\u001b[0m\u001b[0;34m=\u001b[0m\u001b[0mdata\u001b[0m\u001b[0;34m)\u001b[0m\u001b[0;34m\u001b[0m\u001b[0m\n\u001b[0m\u001b[1;32m    467\u001b[0m \u001b[0;34m\u001b[0m\u001b[0m\n\u001b[1;32m    468\u001b[0m     \u001b[0;32mdef\u001b[0m \u001b[0m_request\u001b[0m\u001b[0;34m(\u001b[0m\u001b[0mself\u001b[0m\u001b[0;34m,\u001b[0m \u001b[0mmethod\u001b[0m\u001b[0;34m,\u001b[0m \u001b[0murl\u001b[0m\u001b[0;34m,\u001b[0m \u001b[0mbody\u001b[0m\u001b[0;34m=\u001b[0m\u001b[0;32mNone\u001b[0m\u001b[0;34m)\u001b[0m\u001b[0;34m:\u001b[0m\u001b[0;34m\u001b[0m\u001b[0m\n",
      "\u001b[0;32m/home/xu/venv/lib/python3.5/site-packages/selenium/webdriver/remote/remote_connection.py\u001b[0m in \u001b[0;36m_request\u001b[0;34m(self, method, url, body)\u001b[0m\n\u001b[1;32m    488\u001b[0m             \u001b[0;32mtry\u001b[0m\u001b[0;34m:\u001b[0m\u001b[0;34m\u001b[0m\u001b[0m\n\u001b[1;32m    489\u001b[0m                 \u001b[0mself\u001b[0m\u001b[0;34m.\u001b[0m\u001b[0m_conn\u001b[0m\u001b[0;34m.\u001b[0m\u001b[0mrequest\u001b[0m\u001b[0;34m(\u001b[0m\u001b[0mmethod\u001b[0m\u001b[0;34m,\u001b[0m \u001b[0mparsed_url\u001b[0m\u001b[0;34m.\u001b[0m\u001b[0mpath\u001b[0m\u001b[0;34m,\u001b[0m \u001b[0mbody\u001b[0m\u001b[0;34m,\u001b[0m \u001b[0mheaders\u001b[0m\u001b[0;34m)\u001b[0m\u001b[0;34m\u001b[0m\u001b[0m\n\u001b[0;32m--> 490\u001b[0;31m                 \u001b[0mresp\u001b[0m \u001b[0;34m=\u001b[0m \u001b[0mself\u001b[0m\u001b[0;34m.\u001b[0m\u001b[0m_conn\u001b[0m\u001b[0;34m.\u001b[0m\u001b[0mgetresponse\u001b[0m\u001b[0;34m(\u001b[0m\u001b[0;34m)\u001b[0m\u001b[0;34m\u001b[0m\u001b[0m\n\u001b[0m\u001b[1;32m    491\u001b[0m             \u001b[0;32mexcept\u001b[0m \u001b[0;34m(\u001b[0m\u001b[0mhttplib\u001b[0m\u001b[0;34m.\u001b[0m\u001b[0mHTTPException\u001b[0m\u001b[0;34m,\u001b[0m \u001b[0msocket\u001b[0m\u001b[0;34m.\u001b[0m\u001b[0merror\u001b[0m\u001b[0;34m)\u001b[0m\u001b[0;34m:\u001b[0m\u001b[0;34m\u001b[0m\u001b[0m\n\u001b[1;32m    492\u001b[0m                 \u001b[0mself\u001b[0m\u001b[0;34m.\u001b[0m\u001b[0m_conn\u001b[0m\u001b[0;34m.\u001b[0m\u001b[0mclose\u001b[0m\u001b[0;34m(\u001b[0m\u001b[0;34m)\u001b[0m\u001b[0;34m\u001b[0m\u001b[0m\n",
      "\u001b[0;32m/usr/lib/python3.5/http/client.py\u001b[0m in \u001b[0;36mgetresponse\u001b[0;34m(self)\u001b[0m\n\u001b[1;32m   1195\u001b[0m         \u001b[0;32mtry\u001b[0m\u001b[0;34m:\u001b[0m\u001b[0;34m\u001b[0m\u001b[0m\n\u001b[1;32m   1196\u001b[0m             \u001b[0;32mtry\u001b[0m\u001b[0;34m:\u001b[0m\u001b[0;34m\u001b[0m\u001b[0m\n\u001b[0;32m-> 1197\u001b[0;31m                 \u001b[0mresponse\u001b[0m\u001b[0;34m.\u001b[0m\u001b[0mbegin\u001b[0m\u001b[0;34m(\u001b[0m\u001b[0;34m)\u001b[0m\u001b[0;34m\u001b[0m\u001b[0m\n\u001b[0m\u001b[1;32m   1198\u001b[0m             \u001b[0;32mexcept\u001b[0m \u001b[0mConnectionError\u001b[0m\u001b[0;34m:\u001b[0m\u001b[0;34m\u001b[0m\u001b[0m\n\u001b[1;32m   1199\u001b[0m                 \u001b[0mself\u001b[0m\u001b[0;34m.\u001b[0m\u001b[0mclose\u001b[0m\u001b[0;34m(\u001b[0m\u001b[0;34m)\u001b[0m\u001b[0;34m\u001b[0m\u001b[0m\n",
      "\u001b[0;32m/usr/lib/python3.5/http/client.py\u001b[0m in \u001b[0;36mbegin\u001b[0;34m(self)\u001b[0m\n\u001b[1;32m    295\u001b[0m         \u001b[0;31m# read until we get a non-100 response\u001b[0m\u001b[0;34m\u001b[0m\u001b[0;34m\u001b[0m\u001b[0m\n\u001b[1;32m    296\u001b[0m         \u001b[0;32mwhile\u001b[0m \u001b[0;32mTrue\u001b[0m\u001b[0;34m:\u001b[0m\u001b[0;34m\u001b[0m\u001b[0m\n\u001b[0;32m--> 297\u001b[0;31m             \u001b[0mversion\u001b[0m\u001b[0;34m,\u001b[0m \u001b[0mstatus\u001b[0m\u001b[0;34m,\u001b[0m \u001b[0mreason\u001b[0m \u001b[0;34m=\u001b[0m \u001b[0mself\u001b[0m\u001b[0;34m.\u001b[0m\u001b[0m_read_status\u001b[0m\u001b[0;34m(\u001b[0m\u001b[0;34m)\u001b[0m\u001b[0;34m\u001b[0m\u001b[0m\n\u001b[0m\u001b[1;32m    298\u001b[0m             \u001b[0;32mif\u001b[0m \u001b[0mstatus\u001b[0m \u001b[0;34m!=\u001b[0m \u001b[0mCONTINUE\u001b[0m\u001b[0;34m:\u001b[0m\u001b[0;34m\u001b[0m\u001b[0m\n\u001b[1;32m    299\u001b[0m                 \u001b[0;32mbreak\u001b[0m\u001b[0;34m\u001b[0m\u001b[0m\n",
      "\u001b[0;32m/usr/lib/python3.5/http/client.py\u001b[0m in \u001b[0;36m_read_status\u001b[0;34m(self)\u001b[0m\n\u001b[1;32m    256\u001b[0m \u001b[0;34m\u001b[0m\u001b[0m\n\u001b[1;32m    257\u001b[0m     \u001b[0;32mdef\u001b[0m \u001b[0m_read_status\u001b[0m\u001b[0;34m(\u001b[0m\u001b[0mself\u001b[0m\u001b[0;34m)\u001b[0m\u001b[0;34m:\u001b[0m\u001b[0;34m\u001b[0m\u001b[0m\n\u001b[0;32m--> 258\u001b[0;31m         \u001b[0mline\u001b[0m \u001b[0;34m=\u001b[0m \u001b[0mstr\u001b[0m\u001b[0;34m(\u001b[0m\u001b[0mself\u001b[0m\u001b[0;34m.\u001b[0m\u001b[0mfp\u001b[0m\u001b[0;34m.\u001b[0m\u001b[0mreadline\u001b[0m\u001b[0;34m(\u001b[0m\u001b[0m_MAXLINE\u001b[0m \u001b[0;34m+\u001b[0m \u001b[0;36m1\u001b[0m\u001b[0;34m)\u001b[0m\u001b[0;34m,\u001b[0m \u001b[0;34m\"iso-8859-1\"\u001b[0m\u001b[0;34m)\u001b[0m\u001b[0;34m\u001b[0m\u001b[0m\n\u001b[0m\u001b[1;32m    259\u001b[0m         \u001b[0;32mif\u001b[0m \u001b[0mlen\u001b[0m\u001b[0;34m(\u001b[0m\u001b[0mline\u001b[0m\u001b[0;34m)\u001b[0m \u001b[0;34m>\u001b[0m \u001b[0m_MAXLINE\u001b[0m\u001b[0;34m:\u001b[0m\u001b[0;34m\u001b[0m\u001b[0m\n\u001b[1;32m    260\u001b[0m             \u001b[0;32mraise\u001b[0m \u001b[0mLineTooLong\u001b[0m\u001b[0;34m(\u001b[0m\u001b[0;34m\"status line\"\u001b[0m\u001b[0;34m)\u001b[0m\u001b[0;34m\u001b[0m\u001b[0m\n",
      "\u001b[0;32m/usr/lib/python3.5/socket.py\u001b[0m in \u001b[0;36mreadinto\u001b[0;34m(self, b)\u001b[0m\n\u001b[1;32m    573\u001b[0m         \u001b[0;32mwhile\u001b[0m \u001b[0;32mTrue\u001b[0m\u001b[0;34m:\u001b[0m\u001b[0;34m\u001b[0m\u001b[0m\n\u001b[1;32m    574\u001b[0m             \u001b[0;32mtry\u001b[0m\u001b[0;34m:\u001b[0m\u001b[0;34m\u001b[0m\u001b[0m\n\u001b[0;32m--> 575\u001b[0;31m                 \u001b[0;32mreturn\u001b[0m \u001b[0mself\u001b[0m\u001b[0;34m.\u001b[0m\u001b[0m_sock\u001b[0m\u001b[0;34m.\u001b[0m\u001b[0mrecv_into\u001b[0m\u001b[0;34m(\u001b[0m\u001b[0mb\u001b[0m\u001b[0;34m)\u001b[0m\u001b[0;34m\u001b[0m\u001b[0m\n\u001b[0m\u001b[1;32m    576\u001b[0m             \u001b[0;32mexcept\u001b[0m \u001b[0mtimeout\u001b[0m\u001b[0;34m:\u001b[0m\u001b[0;34m\u001b[0m\u001b[0m\n\u001b[1;32m    577\u001b[0m                 \u001b[0mself\u001b[0m\u001b[0;34m.\u001b[0m\u001b[0m_timeout_occurred\u001b[0m \u001b[0;34m=\u001b[0m \u001b[0;32mTrue\u001b[0m\u001b[0;34m\u001b[0m\u001b[0m\n",
      "\u001b[0;31mKeyboardInterrupt\u001b[0m: "
     ]
    }
   ],
   "source": [
    "driver1.current_url"
   ]
  },
  {
   "cell_type": "code",
   "execution_count": 294,
   "metadata": {
    "ExecuteTime": {
     "end_time": "2018-03-03T16:02:01.204700",
     "start_time": "2018-03-03T16:02:01.202403"
    },
    "collapsed": true
   },
   "outputs": [],
   "source": [
    "import random"
   ]
  },
  {
   "cell_type": "code",
   "execution_count": 303,
   "metadata": {
    "ExecuteTime": {
     "end_time": "2018-03-03T16:02:26.626050",
     "start_time": "2018-03-03T16:02:26.620455"
    },
    "collapsed": false
   },
   "outputs": [
    {
     "data": {
      "text/plain": [
       "0.9211874475193126"
      ]
     },
     "execution_count": 303,
     "metadata": {},
     "output_type": "execute_result"
    }
   ],
   "source": [
    "random.random()"
   ]
  },
  {
   "cell_type": "code",
   "execution_count": 339,
   "metadata": {
    "ExecuteTime": {
     "end_time": "2018-03-03T21:42:41.870046",
     "start_time": "2018-03-03T21:42:41.865827"
    },
    "collapsed": false
   },
   "outputs": [
    {
     "data": {
      "text/plain": [
       "['INK 银客集团 拉勾认证企业',\n",
       " '移动互联网,金融 领域',\n",
       " 'C轮 发展阶段',\n",
       " '港股上市公司云游控股（股票代码00484）(C轮)，获源码资本、清风资本千万美元A轮融资(A轮)',\n",
       " '投资机构',\n",
       " '500-2000人 规模',\n",
       " 'http://www.yinke.com 公司主页']"
      ]
     },
     "execution_count": 339,
     "metadata": {},
     "output_type": "execute_result"
    }
   ],
   "source": [
    "job_company.text.splitlines()"
   ]
  },
  {
   "cell_type": "code",
   "execution_count": 332,
   "metadata": {
    "ExecuteTime": {
     "end_time": "2018-03-03T21:40:45.898954",
     "start_time": "2018-03-03T21:40:45.660739"
    },
    "collapsed": false
   },
   "outputs": [],
   "source": [
    "Q = Queue(1000)\n",
    "with open('search_data.log','r') as f_read:\n",
    "    cnt = 0\n",
    "    for line in f_read:\n",
    "        if cnt >12:\n",
    "            break\n",
    "        Q.put(line.strip())\n",
    "        cnt += 1\n",
    "    Q.put(None)"
   ]
  },
  {
   "cell_type": "code",
   "execution_count": 190,
   "metadata": {
    "ExecuteTime": {
     "end_time": "2018-03-03T14:17:49.177590",
     "start_time": "2018-03-03T14:17:49.172346"
    },
    "collapsed": false
   },
   "outputs": [
    {
     "data": {
      "text/plain": [
       "'ddfdfdf'"
      ]
     },
     "execution_count": 190,
     "metadata": {},
     "output_type": "execute_result"
    }
   ],
   "source": [
    "'ddfdfdf\\n'.strip()"
   ]
  },
  {
   "cell_type": "code",
   "execution_count": null,
   "metadata": {
    "collapsed": true
   },
   "outputs": [],
   "source": [
    "with open('search_data.log','r') as f_read:\n",
    "    for "
   ]
  },
  {
   "cell_type": "code",
   "execution_count": 154,
   "metadata": {
    "ExecuteTime": {
     "end_time": "2018-03-03T14:03:20.952680",
     "start_time": "2018-03-03T14:03:20.949715"
    },
    "collapsed": false
   },
   "outputs": [],
   "source": [
    "S = '16k-20k /上海 / 经验1-3年 / 本科及以上 / 全职'"
   ]
  },
  {
   "cell_type": "code",
   "execution_count": 280,
   "metadata": {
    "ExecuteTime": {
     "end_time": "2018-03-03T15:54:58.634208",
     "start_time": "2018-03-03T15:54:58.098569"
    },
    "collapsed": false
   },
   "outputs": [],
   "source": [
    "session = HTMLSession()\n",
    "r = session.get('https://www.lagou.com/jobs/4102722.html')\n",
    "\n",
    "positioncontent = r.html.find(\".position-content\")[0]\n",
    "\n",
    "name = positioncontent.find('.name')[0].text\n",
    "\n",
    "\n",
    "job_request = positioncontent.find('.job_request')[0].find(' p')[0].text\n",
    "\n",
    "\n",
    "position_label= positioncontent.find('.position-label')[0].text\n",
    "\n",
    "\n",
    "job_detail = r.html.find(\"#job_detail\")[0]\n",
    "\n",
    "job_advantage = job_detail.find('.job-advantage')[0].find('p')[0].text\n",
    "\n",
    "description = job_detail.find('.job_bt')[0].text\n",
    "\n",
    "work_addr = job_detail.find('.work_addr')[0].text\n",
    "work_addr[:-5].strip()\n",
    "\n",
    "job_company = r.html.find('#job_company')[0]\n",
    "dict_comp = {}\n",
    "comp_name = job_company.find('.fl')[0].text\n",
    "lg_renzheng = job_company.find('.dn')[0].text\n",
    "comp_name = comp_name.replace(lg_renzheng,'').strip()\n",
    "\n",
    "for li in job_company.find('li'):\n",
    "    key = li.find('.hovertips')[0].text\n",
    "    value = li.text.replace(key,'').strip()\n",
    "    dict_comp[key]=value\n",
    "\n",
    "comp_domain = dict_comp.get('领域','')\n",
    "comp_stage = dict_comp.get('发展阶段','')\n",
    "comp_scale = dict_comp.get('规模','')\n",
    "comp_invest = dict_comp.get('投资机构','')\n",
    "\n",
    "for link in job_company.absolute_links:\n",
    "    if 'lagou.com/gongsi' in link:\n",
    "        lagou_page = link\n",
    "    else:\n",
    "        comp_index_page = link"
   ]
  },
  {
   "cell_type": "code",
   "execution_count": 281,
   "metadata": {
    "ExecuteTime": {
     "end_time": "2018-03-03T15:55:12.994121",
     "start_time": "2018-03-03T15:55:12.989432"
    },
    "collapsed": false
   },
   "outputs": [
    {
     "data": {
      "text/plain": [
       "{'公司主页': 'http://www.yinke.com',\n",
       " '发展阶段': 'C轮',\n",
       " '投资机构': '港股上市公司云游控股（股票代码00484）(C轮)，获源码资本、清风资本千万美元A轮融资(A轮)',\n",
       " '规模': '500-2000人',\n",
       " '领域': '移动互联网,金融'}"
      ]
     },
     "execution_count": 281,
     "metadata": {},
     "output_type": "execute_result"
    }
   ],
   "source": [
    "dict_comp"
   ]
  },
  {
   "cell_type": "code",
   "execution_count": 277,
   "metadata": {
    "ExecuteTime": {
     "end_time": "2018-03-03T15:48:53.189071",
     "start_time": "2018-03-03T15:48:53.186445"
    },
    "collapsed": false
   },
   "outputs": [],
   "source": [
    "comp_name = job_company.find('.fl')[0].text\n",
    "lg_renzheng = job_company.find('.dn')[0].text\n",
    "comp_name = comp_name.replace(lg_renzheng,'').strip()\n",
    "comp_name"
   ]
  },
  {
   "cell_type": "code",
   "execution_count": 270,
   "metadata": {
    "ExecuteTime": {
     "end_time": "2018-03-03T15:40:59.008695",
     "start_time": "2018-03-03T15:40:59.002347"
    },
    "collapsed": false
   },
   "outputs": [
    {
     "name": "stdout",
     "output_type": "stream",
     "text": [
      "----------\n",
      "----------\n",
      "----------\n",
      "----------\n",
      "----------\n"
     ]
    }
   ],
   "source": [
    "dict_comp = {}\n",
    "for li in job_company.find('li'):\n",
    "    key = li.find('.hovertips')[0].text\n",
    "    value = li.text.replace(key,'').strip()\n",
    "    dict_comp[key]=value"
   ]
  },
  {
   "cell_type": "code",
   "execution_count": 271,
   "metadata": {
    "ExecuteTime": {
     "end_time": "2018-03-03T15:41:03.589581",
     "start_time": "2018-03-03T15:41:03.585743"
    },
    "collapsed": false
   },
   "outputs": [
    {
     "data": {
      "text/plain": [
       "{'公司主页': 'http://www.yinke.com',\n",
       " '发展阶段': 'C轮',\n",
       " '投资机构': '港股上市公司云游控股（股票代码00484）(C轮)，获源码资本、清风资本千万美元A轮融资(A轮)',\n",
       " '规模': '500-2000人',\n",
       " '领域': '移动互联网,金融'}"
      ]
     },
     "execution_count": 271,
     "metadata": {},
     "output_type": "execute_result"
    }
   ],
   "source": [
    "dict_comp"
   ]
  },
  {
   "cell_type": "code",
   "execution_count": 268,
   "metadata": {
    "ExecuteTime": {
     "end_time": "2018-03-03T15:39:21.609119",
     "start_time": "2018-03-03T15:39:21.604904"
    },
    "collapsed": false
   },
   "outputs": [
    {
     "data": {
      "text/plain": [
       "'16k-20k /上海 / 经验1-3年 / 本科及以上 / '"
      ]
     },
     "execution_count": 268,
     "metadata": {},
     "output_type": "execute_result"
    }
   ],
   "source": [
    "S.replace('全职','')"
   ]
  },
  {
   "cell_type": "code",
   "execution_count": 263,
   "metadata": {
    "ExecuteTime": {
     "end_time": "2018-03-03T15:38:26.645491",
     "start_time": "2018-03-03T15:38:26.639881"
    },
    "collapsed": false
   },
   "outputs": [
    {
     "data": {
      "text/plain": [
       "'公司主页'"
      ]
     },
     "execution_count": 263,
     "metadata": {},
     "output_type": "execute_result"
    }
   ],
   "source": [
    "li.find('.hovertips')[0].text"
   ]
  },
  {
   "cell_type": "code",
   "execution_count": 253,
   "metadata": {
    "ExecuteTime": {
     "end_time": "2018-03-03T15:23:10.898539",
     "start_time": "2018-03-03T15:23:10.895144"
    },
    "collapsed": false
   },
   "outputs": [
    {
     "data": {
      "text/plain": [
       "<Element a at 0x7f91cc4f9098>"
      ]
     },
     "execution_count": 253,
     "metadata": {},
     "output_type": "execute_result"
    }
   ],
   "source": [
    "li.element[1]"
   ]
  },
  {
   "cell_type": "code",
   "execution_count": 250,
   "metadata": {
    "ExecuteTime": {
     "end_time": "2018-03-03T15:20:05.507281",
     "start_time": "2018-03-03T15:20:05.503910"
    },
    "collapsed": false
   },
   "outputs": [
    {
     "name": "stdout",
     "output_type": "stream",
     "text": [
      "None\n",
      "http://www.yinke.com\n",
      "公司主页\n"
     ]
    }
   ],
   "source": [
    "for l in li.element:\n",
    "    print(l.text)"
   ]
  },
  {
   "cell_type": "code",
   "execution_count": 2,
   "metadata": {
    "ExecuteTime": {
     "end_time": "2018-03-03T12:38:46.883093",
     "start_time": "2018-03-03T12:38:46.880629"
    },
    "collapsed": true
   },
   "outputs": [],
   "source": [
    "from queue import Queue\n"
   ]
  },
  {
   "cell_type": "code",
   "execution_count": 3,
   "metadata": {
    "ExecuteTime": {
     "end_time": "2018-03-03T12:38:56.443551",
     "start_time": "2018-03-03T12:38:56.441192"
    },
    "collapsed": true
   },
   "outputs": [],
   "source": [
    "Q = Queue(4)"
   ]
  },
  {
   "cell_type": "code",
   "execution_count": 7,
   "metadata": {
    "ExecuteTime": {
     "end_time": "2018-03-03T12:39:23.857651",
     "start_time": "2018-03-03T12:39:23.852644"
    },
    "collapsed": true
   },
   "outputs": [],
   "source": [
    "Q.put(None)"
   ]
  },
  {
   "cell_type": "code",
   "execution_count": 2,
   "metadata": {
    "collapsed": true
   },
   "outputs": [],
   "source": [
    "from crawler import dianxin"
   ]
  },
  {
   "cell_type": "code",
   "execution_count": 29,
   "metadata": {
    "collapsed": true
   },
   "outputs": [],
   "source": [
    "from selenium import webdriver\n",
    "from selenium.webdriver.support.ui import WebDriverWait\n",
    "from selenium.webdriver.support import expected_conditions as EC\n",
    "from selenium.common.exceptions import TimeoutException\n",
    "from selenium.webdriver.common.by import By"
   ]
  },
  {
   "cell_type": "code",
   "execution_count": 46,
   "metadata": {
    "collapsed": true
   },
   "outputs": [],
   "source": [
    "from selenium import webdriver\n",
    "import os\n",
    "from selenium.webdriver import ActionChains\n",
    "import redis\n",
    "import pickle\n",
    "from time import sleep,time\n",
    "from requests import Request, Session\n",
    "from PIL import Image\n",
    "from config import *"
   ]
  },
  {
   "cell_type": "code",
   "execution_count": 42,
   "metadata": {
    "collapsed": true
   },
   "outputs": [],
   "source": [
    "def get_captcha(self):\n",
    "    prifex_save = \"/home/www/flask/static/\"\n",
    "    prifex_return = \"http://127.0.0.1/static/\"\n",
    "    big_image = prifex_save+'test.png'\n",
    "    captcha = self.driver.find_element_by_id('imgCaptcha')\n",
    "    location = [captcha.location['x'], captcha.location['y']]\n",
    "    size = [captcha.size['width'], captcha.size['height']]\n",
    "    self.driver.save_screenshot(big_image)\n",
    "\n",
    "    def to_box(point, size):\n",
    "        from numpy import array\n",
    "        return point + list(array(point) + array(size))\n",
    "\n",
    "    img = Image.open(big_image)\n",
    "    recaptha_image = img.crop(to_box(location, size))\n",
    "    image_id =str(time()*10000)[:14]\n",
    "    image_file = prifex_save+image_id+'.png'\n",
    "    image_url = prifex_return+image_id+'.png'\n",
    "    try:\n",
    "        recaptha_image.save(image_file)\n",
    "        return image_url\n",
    "    except Exception as e:\n",
    "        return \"save captcha failed\""
   ]
  },
  {
   "cell_type": "code",
   "execution_count": 69,
   "metadata": {
    "collapsed": false,
    "scrolled": true
   },
   "outputs": [],
   "source": [
    "def loop():\n",
    "    print(\"AAAA\",time())\n",
    "    dx.driver.get('http://login.189.cn/login')\n",
    "    delay = 13\n",
    "    print(\"BBBB\",time())\n",
    "    try:\n",
    "        print(\"CCCC\",time())\n",
    "        element_present = EC.presence_of_element_located((By.ID, 'imgCaptcha'))\n",
    "        WebDriverWait(dx.driver, delay).until(element_present)\n",
    "        print(\"DDDD\",time())\n",
    "        print(\"Page is ready!\")\n",
    "    except TimeoutException:\n",
    "        print(\"EEEE\",time())\n",
    "        print(\"Loading took too much time!\")\n",
    "    print(get_captcha(dx))"
   ]
  },
  {
   "cell_type": "code",
   "execution_count": 71,
   "metadata": {
    "collapsed": false,
    "scrolled": false
   },
   "outputs": [
    {
     "name": "stdout",
     "output_type": "stream",
     "text": [
      "AAAA 1478251920.8657057\n",
      "BBBB 1478251921.1943111\n",
      "CCCC 1478251921.1943555\n",
      "DDDD 1478251921.204172\n",
      "Page is ready!\n",
      "http://127.0.0.1/static/14782519213687.png\n",
      "AAAA 1478251921.3692951\n",
      "BBBB 1478251921.6760383\n",
      "CCCC 1478251921.6760943\n",
      "DDDD 1478251921.6832757\n",
      "Page is ready!\n",
      "http://127.0.0.1/static/14782519218472.png\n",
      "AAAA 1478251921.8478892\n",
      "BBBB 1478251922.203414\n",
      "CCCC 1478251922.203464\n",
      "DDDD 1478251922.2173107\n",
      "Page is ready!\n",
      "http://127.0.0.1/static/14782519223813.png\n",
      "AAAA 1478251922.3818777\n",
      "BBBB 1478251923.0433285\n",
      "CCCC 1478251923.043377\n",
      "DDDD 1478251923.0587246\n",
      "Page is ready!\n",
      "http://127.0.0.1/static/14782519232262.png\n",
      "AAAA 1478251923.2267551\n",
      "BBBB 1478251923.8736582\n",
      "CCCC 1478251923.873715\n",
      "DDDD 1478251923.8806868\n",
      "Page is ready!\n",
      "http://127.0.0.1/static/14782519240607.png\n"
     ]
    }
   ],
   "source": [
    "for x in range(5):\n",
    "    loop()"
   ]
  },
  {
   "cell_type": "code",
   "execution_count": 67,
   "metadata": {
    "collapsed": false
   },
   "outputs": [
    {
     "name": "stdout",
     "output_type": "stream",
     "text": [
      "http://127.0.0.1/static/14782518063078.png\n"
     ]
    }
   ],
   "source": [
    "print(get_captcha(dx))"
   ]
  },
  {
   "cell_type": "code",
   "execution_count": 66,
   "metadata": {
    "collapsed": false
   },
   "outputs": [
    {
     "data": {
      "text/plain": [
       "'http://login.189.cn/login'"
      ]
     },
     "execution_count": 66,
     "metadata": {},
     "output_type": "execute_result"
    }
   ],
   "source": [
    "dx.driver.current_url"
   ]
  },
  {
   "cell_type": "code",
   "execution_count": 68,
   "metadata": {
    "collapsed": false
   },
   "outputs": [
    {
     "name": "stdout",
     "output_type": "stream",
     "text": [
      "AAAA 1478251825.5738423\n",
      "BBBB 1478251827.9958882\n",
      "CCCC 1478251827.9959347\n",
      "http://127.0.0.1/static/14782518281728.png\n",
      "DDDD 1478251828.1735334\n",
      "Page is ready!\n",
      "http://127.0.0.1/static/14782518283442.png\n"
     ]
    }
   ],
   "source": [
    "loop()"
   ]
  },
  {
   "cell_type": "code",
   "execution_count": 22,
   "metadata": {
    "collapsed": true
   },
   "outputs": [],
   "source": [
    "a=dx.driver.find_element_by_id('imgCaptcha')"
   ]
  },
  {
   "cell_type": "code",
   "execution_count": 25,
   "metadata": {
    "collapsed": false
   },
   "outputs": [
    {
     "data": {
      "text/plain": [
       "'http://login.189.cn/captcha?60c6126bc7084d819bd162c674f76acc&source=login&width=100&height=37&0.1852640443728797'"
      ]
     },
     "execution_count": 25,
     "metadata": {},
     "output_type": "execute_result"
    }
   ],
   "source": [
    "a.get_attribute('src')"
   ]
  },
  {
   "cell_type": "code",
   "execution_count": 64,
   "metadata": {
    "collapsed": false,
    "scrolled": true
   },
   "outputs": [
    {
     "name": "stdout",
     "output_type": "stream",
     "text": [
      "is exist driver True\n"
     ]
    }
   ],
   "source": [
    "dx = dianxin()"
   ]
  },
  {
   "cell_type": "code",
   "execution_count": 28,
   "metadata": {
    "collapsed": false
   },
   "outputs": [
    {
     "data": {
      "text/plain": [
       "'id'"
      ]
     },
     "execution_count": 28,
     "metadata": {},
     "output_type": "execute_result"
    }
   ],
   "source": [
    "from selenium.webdriver.common.by import By\n",
    "By.ID"
   ]
  },
  {
   "cell_type": "code",
   "execution_count": 65,
   "metadata": {
    "collapsed": true
   },
   "outputs": [],
   "source": [
    "dx.driver.get('http://login.189.cn/login')"
   ]
  },
  {
   "cell_type": "code",
   "execution_count": 7,
   "metadata": {
    "collapsed": false
   },
   "outputs": [],
   "source": [
    "import time"
   ]
  },
  {
   "cell_type": "code",
   "execution_count": 18,
   "metadata": {
    "collapsed": false
   },
   "outputs": [
    {
     "data": {
      "text/plain": [
       "'Fri Nov  4 16:49:27 2016'"
      ]
     },
     "execution_count": 18,
     "metadata": {},
     "output_type": "execute_result"
    }
   ],
   "source": [
    "time.asctime()"
   ]
  },
  {
   "cell_type": "code",
   "execution_count": null,
   "metadata": {
    "collapsed": true
   },
   "outputs": [],
   "source": []
  },
  {
   "cell_type": "code",
   "execution_count": null,
   "metadata": {
    "collapsed": true
   },
   "outputs": [],
   "source": []
  },
  {
   "cell_type": "code",
   "execution_count": 45,
   "metadata": {
    "collapsed": false
   },
   "outputs": [
    {
     "data": {
      "text/plain": [
       "'f26f2333-39de-4fbb-9df9-70d133c28501'"
      ]
     },
     "execution_count": 45,
     "metadata": {},
     "output_type": "execute_result"
    }
   ],
   "source": [
    "remote1.session_id"
   ]
  },
  {
   "cell_type": "code",
   "execution_count": null,
   "metadata": {
    "collapsed": true
   },
   "outputs": [],
   "source": []
  },
  {
   "cell_type": "code",
   "execution_count": 40,
   "metadata": {
    "collapsed": false
   },
   "outputs": [
    {
     "data": {
      "text/plain": [
       "b'ddfdg'"
      ]
     },
     "execution_count": 40,
     "metadata": {},
     "output_type": "execute_result"
    }
   ],
   "source": [
    "bytes('ddfdg',encoding ='utf8')"
   ]
  },
  {
   "cell_type": "code",
   "execution_count": 9,
   "metadata": {
    "collapsed": false
   },
   "outputs": [
    {
     "data": {
      "text/plain": [
       "'15aeea5d-f320-456e-a695-112e79c54854'"
      ]
     },
     "execution_count": 9,
     "metadata": {},
     "output_type": "execute_result"
    }
   ],
   "source": [
    "remote1.session_id"
   ]
  },
  {
   "cell_type": "code",
   "execution_count": 16,
   "metadata": {
    "collapsed": true
   },
   "outputs": [],
   "source": [
    "remote2 = webdriver.Remote(command_executor=\"http://127.0.0.1:4444/wd/hub\",desired_capabilities=c)"
   ]
  },
  {
   "cell_type": "code",
   "execution_count": 19,
   "metadata": {
    "collapsed": false
   },
   "outputs": [],
   "source": [
    "remote2.session_id =remote1.session_id"
   ]
  },
  {
   "cell_type": "code",
   "execution_count": 23,
   "metadata": {
    "collapsed": false
   },
   "outputs": [
    {
     "data": {
      "text/plain": [
       "'10a937e4-1f3b-4a60-b124-a0c4253326a9'"
      ]
     },
     "execution_count": 23,
     "metadata": {},
     "output_type": "execute_result"
    }
   ],
   "source": [
    "remote2.session_id"
   ]
  },
  {
   "cell_type": "code",
   "execution_count": 21,
   "metadata": {
    "collapsed": false
   },
   "outputs": [
    {
     "data": {
      "text/plain": [
       "'http://www.qq.com/'"
      ]
     },
     "execution_count": 21,
     "metadata": {},
     "output_type": "execute_result"
    }
   ],
   "source": [
    "remote2.current_url"
   ]
  },
  {
   "cell_type": "code",
   "execution_count": 82,
   "metadata": {
    "collapsed": true
   },
   "outputs": [],
   "source": [
    "remote3 = webdriver.Remote(command_executor=\"http://127.0.0.1:4444/wd/hub\",desired_capabilities=c)"
   ]
  },
  {
   "cell_type": "code",
   "execution_count": 79,
   "metadata": {
    "collapsed": true
   },
   "outputs": [],
   "source": [
    "remote2.session_id=remote1.session_id"
   ]
  },
  {
   "cell_type": "code",
   "execution_count": 83,
   "metadata": {
    "collapsed": true
   },
   "outputs": [],
   "source": [
    "session_id_1 = remote1.session_id\n",
    "session_id_2 = remote2.session_id\n",
    "session_id_3 = remote3.session_id"
   ]
  },
  {
   "cell_type": "code",
   "execution_count": 86,
   "metadata": {
    "collapsed": true
   },
   "outputs": [],
   "source": [
    "remote3.session_id=session_id_2"
   ]
  },
  {
   "cell_type": "code",
   "execution_count": 87,
   "metadata": {
    "collapsed": true
   },
   "outputs": [],
   "source": [
    "remote3"
   ]
  },
  {
   "cell_type": "code",
   "execution_count": 63,
   "metadata": {
    "collapsed": true
   },
   "outputs": [],
   "source": [
    "remote1.get('http://www.baidu.com')"
   ]
  },
  {
   "cell_type": "code",
   "execution_count": 64,
   "metadata": {
    "collapsed": true
   },
   "outputs": [],
   "source": [
    "remote2.get('http://www.qq.com')"
   ]
  },
  {
   "cell_type": "code",
   "execution_count": 65,
   "metadata": {
    "collapsed": false
   },
   "outputs": [
    {
     "data": {
      "text/plain": [
       "'https://www.baidu.com/'"
      ]
     },
     "execution_count": 65,
     "metadata": {},
     "output_type": "execute_result"
    }
   ],
   "source": [
    "remote1.current_url"
   ]
  },
  {
   "cell_type": "code",
   "execution_count": 66,
   "metadata": {
    "collapsed": false
   },
   "outputs": [
    {
     "data": {
      "text/plain": [
       "'http://www.qq.com/'"
      ]
     },
     "execution_count": 66,
     "metadata": {},
     "output_type": "execute_result"
    }
   ],
   "source": [
    "remote2.current_url"
   ]
  },
  {
   "cell_type": "code",
   "execution_count": 67,
   "metadata": {
    "collapsed": true
   },
   "outputs": [],
   "source": [
    "remote1.session_id='faf62bd0-e6bd-4b14-aa6d-3312e091a217'"
   ]
  },
  {
   "cell_type": "code",
   "execution_count": 68,
   "metadata": {
    "collapsed": false
   },
   "outputs": [
    {
     "data": {
      "text/plain": [
       "'http://www.qq.com/'"
      ]
     },
     "execution_count": 68,
     "metadata": {},
     "output_type": "execute_result"
    }
   ],
   "source": [
    "remote1.current_url"
   ]
  },
  {
   "cell_type": "code",
   "execution_count": 32,
   "metadata": {
    "collapsed": false
   },
   "outputs": [],
   "source": [
    "c= webdriver.DesiredCapabilities.CHROME\n",
    "drive_remote2 = webdriver.Remote(command_executor=\"http://127.0.0.1:4444/wd/hub\",desired_capabilities=c)"
   ]
  },
  {
   "cell_type": "code",
   "execution_count": 33,
   "metadata": {
    "collapsed": true
   },
   "outputs": [],
   "source": [
    "drive_remote3 = webdriver.Remote(command_executor=\"http://127.0.0.1:4444/wd/hub\",desired_capabilities=c)"
   ]
  },
  {
   "cell_type": "code",
   "execution_count": 52,
   "metadata": {
    "collapsed": false
   },
   "outputs": [],
   "source": [
    "drive_remote3.get('http://www.qq.com')"
   ]
  },
  {
   "cell_type": "code",
   "execution_count": 47,
   "metadata": {
    "collapsed": true
   },
   "outputs": [],
   "source": [
    "drive_remote3.session_id = '362cc94d-2a3f-473d-8163-87d4ec1ee05a'"
   ]
  },
  {
   "cell_type": "code",
   "execution_count": 45,
   "metadata": {
    "collapsed": false,
    "scrolled": true
   },
   "outputs": [
    {
     "name": "stdout",
     "output_type": "stream",
     "text": [
      "362cc94d-2a3f-473d-8163-87d4ec1ee05a\n",
      "6d624be1-4fc6-48d0-96a9-e88497b318ab\n"
     ]
    }
   ],
   "source": [
    "print(drive_remote2.session_id)\n",
    "print(drive_remote3.session_id)"
   ]
  },
  {
   "cell_type": "code",
   "execution_count": 36,
   "metadata": {
    "collapsed": false
   },
   "outputs": [],
   "source": [
    "drive_remote3.get('http://www.baidu.com')"
   ]
  },
  {
   "cell_type": "code",
   "execution_count": 56,
   "metadata": {
    "collapsed": false
   },
   "outputs": [
    {
     "name": "stdout",
     "output_type": "stream",
     "text": [
      "362cc94d-2a3f-473d-8163-87d4ec1ee05a 362cc94d-2a3f-473d-8163-87d4ec1ee05a\n"
     ]
    }
   ],
   "source": [
    "print(drive_remote2.session_id,drive_remote3.session_id)"
   ]
  },
  {
   "cell_type": "code",
   "execution_count": 57,
   "metadata": {
    "collapsed": true
   },
   "outputs": [],
   "source": [
    "drive_remote2.session_id = '6d624be1-4fc6-48d0-96a9-e88497b318ab'"
   ]
  },
  {
   "cell_type": "code",
   "execution_count": 58,
   "metadata": {
    "collapsed": false
   },
   "outputs": [
    {
     "data": {
      "text/plain": [
       "'https://www.baidu.com/'"
      ]
     },
     "execution_count": 58,
     "metadata": {},
     "output_type": "execute_result"
    }
   ],
   "source": [
    "drive_remote2.current_url"
   ]
  },
  {
   "cell_type": "code",
   "execution_count": 53,
   "metadata": {
    "collapsed": false,
    "scrolled": false
   },
   "outputs": [
    {
     "data": {
      "text/plain": [
       "'http://www.qq.com/'"
      ]
     },
     "execution_count": 53,
     "metadata": {},
     "output_type": "execute_result"
    }
   ],
   "source": [
    "drive_remote2.current_url"
   ]
  },
  {
   "cell_type": "code",
   "execution_count": 54,
   "metadata": {
    "collapsed": false
   },
   "outputs": [
    {
     "data": {
      "text/plain": [
       "'http://www.qq.com/'"
      ]
     },
     "execution_count": 54,
     "metadata": {},
     "output_type": "execute_result"
    }
   ],
   "source": [
    "drive_remote3.current_url"
   ]
  },
  {
   "cell_type": "code",
   "execution_count": 46,
   "metadata": {
    "collapsed": false
   },
   "outputs": [
    {
     "data": {
      "text/plain": [
       "'https://www.baidu.com/'"
      ]
     },
     "execution_count": 46,
     "metadata": {},
     "output_type": "execute_result"
    }
   ],
   "source": [
    "drive_remote3.current_url"
   ]
  },
  {
   "cell_type": "code",
   "execution_count": 8,
   "metadata": {
    "collapsed": false
   },
   "outputs": [
    {
     "data": {
      "text/plain": [
       "'d57d6cda34db5c6248f6a94818dd1c2d'"
      ]
     },
     "execution_count": 8,
     "metadata": {},
     "output_type": "execute_result"
    }
   ],
   "source": [
    "drive_remote1.session_id"
   ]
  },
  {
   "cell_type": "code",
   "execution_count": 68,
   "metadata": {
    "collapsed": false
   },
   "outputs": [
    {
     "data": {
      "text/plain": [
       "'149290094a5e18f2fefb6647889d2cf8'"
      ]
     },
     "execution_count": 68,
     "metadata": {},
     "output_type": "execute_result"
    }
   ],
   "source": [
    "drive_remote3.session_id"
   ]
  },
  {
   "cell_type": "code",
   "execution_count": 56,
   "metadata": {
    "collapsed": false
   },
   "outputs": [],
   "source": [
    "drive_remote2.get('http://www.qq.com')"
   ]
  },
  {
   "cell_type": "code",
   "execution_count": 38,
   "metadata": {
    "collapsed": false
   },
   "outputs": [
    {
     "data": {
      "text/plain": [
       "'https://www.baidu.com/'"
      ]
     },
     "execution_count": 38,
     "metadata": {},
     "output_type": "execute_result"
    }
   ],
   "source": [
    "drive_remote3.current_url"
   ]
  },
  {
   "cell_type": "code",
   "execution_count": 46,
   "metadata": {
    "collapsed": true
   },
   "outputs": [],
   "source": [
    "driver11.close()"
   ]
  },
  {
   "cell_type": "code",
   "execution_count": 60,
   "metadata": {
    "collapsed": false,
    "scrolled": true
   },
   "outputs": [
    {
     "name": "stdout",
     "output_type": "stream",
     "text": [
      "Help on method set_script_timeout in module selenium.webdriver.remote.webdriver:\n",
      "\n",
      "set_script_timeout(time_to_wait) method of selenium.webdriver.chrome.webdriver.WebDriver instance\n",
      "    Set the amount of time that the script should wait during an\n",
      "       execute_async_script call before throwing an error.\n",
      "    \n",
      "    :Args:\n",
      "     - time_to_wait: The amount of time to wait (in seconds)\n",
      "    \n",
      "    :Usage:\n",
      "        driver.set_script_timeout(30)\n",
      "\n"
     ]
    }
   ],
   "source": [
    "driver.set_page_load_timeout(1)\n",
    "help(driver.set_script_timeout)\n",
    "#driver.get('http://login.189.cn/login')"
   ]
  },
  {
   "cell_type": "code",
   "execution_count": 18,
   "metadata": {
    "collapsed": false
   },
   "outputs": [
    {
     "ename": "NameError",
     "evalue": "name 'driver_remote' is not defined",
     "output_type": "error",
     "traceback": [
      "\u001b[0;31m---------------------------------------------------------------------------\u001b[0m",
      "\u001b[0;31mNameError\u001b[0m                                 Traceback (most recent call last)",
      "\u001b[0;32m<ipython-input-18-26c62395436d>\u001b[0m in \u001b[0;36m<module>\u001b[0;34m()\u001b[0m\n\u001b[0;32m----> 1\u001b[0;31m \u001b[0mdriver_remote\u001b[0m\u001b[0;34m\u001b[0m\u001b[0m\n\u001b[0m",
      "\u001b[0;31mNameError\u001b[0m: name 'driver_remote' is not defined"
     ]
    }
   ],
   "source": [
    "driver_remote"
   ]
  },
  {
   "cell_type": "code",
   "execution_count": 3,
   "metadata": {
    "collapsed": false
   },
   "outputs": [],
   "source": [
    "def timeout_decorator(errors=(Exception, ),default_value = 'ddd',wait_timeout = 15):\n",
    "    \n",
    "    def decor(func):\n",
    "        def new_func(*args, **kwargs):\n",
    "            print(args)\n",
    "            try :\n",
    "                self.driver.set_page_load_timeout(wait_timeout)\n",
    "                y = func(*args, **kwargs)\n",
    "                return y\n",
    "            except errors as e:\n",
    "                \n",
    "                print('login_connect_timeout',repr(e))\n",
    "                return False\n",
    "                #return default_value\n",
    "        return new_func\n",
    "    return decor"
   ]
  },
  {
   "cell_type": "code",
   "execution_count": 1,
   "metadata": {
    "collapsed": false
   },
   "outputs": [],
   "source": [
    "import redis"
   ]
  },
  {
   "cell_type": "code",
   "execution_count": 161,
   "metadata": {
    "collapsed": false
   },
   "outputs": [
    {
     "data": {
      "text/plain": [
       "1"
      ]
     },
     "execution_count": 161,
     "metadata": {},
     "output_type": "execute_result"
    }
   ],
   "source": [
    "r.delete('18017054743')"
   ]
  },
  {
   "cell_type": "code",
   "execution_count": 164,
   "metadata": {
    "collapsed": true
   },
   "outputs": [],
   "source": [
    "r.get('18017054743')"
   ]
  },
  {
   "cell_type": "code",
   "execution_count": null,
   "metadata": {
    "collapsed": true
   },
   "outputs": [],
   "source": [
    "dx =dianxin()\n",
    "if dx.login('18017054743','427755') is True:\n",
    "    if dx.has_error():\n",
    "        print('pwd error')\n",
    "        #error happend ,tell client and redis\n",
    "    if dx.has_captcha():\n",
    "        print('has_captcha')\n",
    "        #captcha happend ,tell clent the url of captcha,and redis the stage \n",
    "    #if dx.was_locked():\n",
    "        #was_locked te;; client and redis\n",
    "    #goto next stage\n",
    "    dx.r.hmset('18017054743',{'cookies':dx.get_cookies(),'stage':'login_succeed','passwd':'427755'})\n",
    "    if dx.get_detail_page():\n",
    "        SMS_code = input(\"SMS_code?:\")\n",
    "        dx.Input_SMS_code(SMS_code)\n",
    "        # print(dx.get_detail())\n",
    "    else:\n",
    "        pass\n",
    "else:\n",
    "    pass\n",
    "    #print('login_ connect_timeout')\n",
    "    #tell client timeout and return wrong\n",
    "    #tell redis release its worker and store the satge"
   ]
  },
  {
   "cell_type": "code",
   "execution_count": 31,
   "metadata": {
    "collapsed": false,
    "scrolled": true
   },
   "outputs": [],
   "source": [
    "from selenium import webdriver\n",
    "import os\n",
    "from selenium.webdriver import ActionChains\n",
    "import redis\n",
    "import pickle\n",
    "from time import sleep\n",
    "from requests import Request\n",
    "\n",
    "\n",
    "def timeout_decorator(errors=(Exception,), default_value='login_connect_timeout'):\n",
    "    def decor(func):\n",
    "        def new_func(*args, **kwargs):\n",
    "            print(args)\n",
    "            try:\n",
    "\n",
    "                y = func(*args, **kwargs)\n",
    "                return y\n",
    "            except errors as e:\n",
    "                print(default_value,repr(e))\n",
    "                return False\n",
    "                # return default_value\n",
    "\n",
    "        return new_func\n",
    "\n",
    "    return decor\n",
    "\n",
    "\n",
    "try_except = timeout_decorator(default_value='default')\n",
    "\n",
    "\n",
    "\n",
    "\n",
    "\n",
    "\n",
    "\n",
    "class dianxin():\n",
    "\n",
    "    def __init__(self):\n",
    "        self.curr_user = ''\n",
    "        chromedriver = \"/home/xu/Downloads/chromedriver\"\n",
    "        os.environ[\"webdriver.chrome.driver\"] = chromedriver\n",
    "        self.driver = webdriver.Chrome(chromedriver,port = 9515)\n",
    "        self.driver.set_page_load_timeout(30)\n",
    "        self.r = redis.StrictRedis()\n",
    "\n",
    "\n",
    "\n",
    "\n",
    "        \n",
    "#driver.get('http://login.189.cn/login')\n",
    "    def cookies2redis(self,phone,**kv):\n",
    "        cookies = pickle.dumps(self.driver.get_cookies())\n",
    "        self.r.hmset(phone,dict({'cookies':cookies},**kv))\n",
    "    \n",
    "    def redis2cookies(self,phone):\n",
    "        cookies = pickle.loads(r.hget(phone,'cookies'))\n",
    "        dm.driver.delete_all_cookies()\n",
    "        for c in cookies:\n",
    "            dm.driver.add_cookie({'name':c['name'],'value':c['value']})\n",
    "    @try_except\n",
    "    def login(self,phone_num, service_pwd):\n",
    "        self.driver.get('http://login.189.cn/login')\n",
    "        self.driver.find_element_by_id('txtAccount').clear()\n",
    "        self.send_key(\n",
    "            self.driver.find_element_by_id('txtAccount'),\n",
    "            phone_num\n",
    "        )\n",
    "        self.send_key(\n",
    "            self.driver.find_element_by_id('txtShowPwd'),\n",
    "            service_pwd\n",
    "            )\n",
    "        btn = self.driver.find_element_by_id('loginbtn')\n",
    "        btn.click()\n",
    "        sleep(5)\n",
    "        return True\n",
    "    def send_key(self,ele, keys):\n",
    "        ele.value = \"\"\n",
    "        (\n",
    "            ActionChains(self.driver)\n",
    "            .move_to_element(ele)\n",
    "            .click()\n",
    "            .send_keys(keys)\n",
    "            .perform()\n",
    "        )\n",
    "        \n",
    "    def has_error(self):\n",
    "        try:\n",
    "            in_ele = self.driver.find_element_by_id('divErr')\n",
    "            if  'display: none' in in_ele.get_attribute('style'):\n",
    "                return True\n",
    "            else:\n",
    "                return False    \n",
    "        except Exception  :\n",
    "            print('exception')\n",
    "            return False\n",
    "    def has_captcha(self):\n",
    "        try:\n",
    "            in_ele = dx.driver.find_element_by_id('liCaptcha')\n",
    "            if 'display: none' in in_ele.get_attribute('style'):\n",
    "                return False\n",
    "            else:\n",
    "                return True\n",
    "        except Exception:\n",
    "            return False\n",
    "    def is_locked(self):\n",
    "        return False\n",
    "    def has_alert(self):\n",
    "        in_ele = self.driver.find_element_by_id('J_Flow_Fail')\n",
    "        return  'display: none' in in_ele.get_attribute('style')\n",
    "    \n",
    "    @try_except\n",
    "    def get_detail_page(self):\n",
    "        self.driver.get('http://service.sh.189.cn/service/query/detail')\n",
    "        btn = self.driver.find_element_by_css_selector('#sendPwd')\n",
    "        btn.click()\n",
    "        return True\n",
    "    \n",
    "    def Input_SMS_code(self,SMS_code):\n",
    "        self.send_key(\n",
    "            self.driver.find_element_by_id('input_code'),\n",
    "            SMS_code\n",
    "            )\n",
    "        btn = self.driver.find_element_by_css_selector('input.sub-btn.item-text')\n",
    "        btn.click()\n",
    "        '''\n",
    "        if self.has_alert():\n",
    "            self.driver\\\n",
    "            .find_element_by_id('J_Flow_Fail')\\\n",
    "            .find_element_by_class_name('modal-head')\\\n",
    "            .find_element_by_tag_name('i')\\\n",
    "            .click()\n",
    "            btn.click()\n",
    "        '''\n",
    "        \n",
    "\n",
    "    @try_except\n",
    "    def get_detail(self):\n",
    "        data = {\n",
    "            'begin':0,\n",
    "            'bill_type':'SCP',\n",
    "            'dateType':'now',\n",
    "            'devNo':'18017054743',\n",
    "            'end':10,\n",
    "            'endDate':'2016-10-13',\n",
    "            'flag':1,\n",
    "            'startDate':'2016-10-01'\n",
    "        }\n",
    "        req = Request('GET','http://service.sh.189.cn/service/service/authority/query/billdetailQuery.do', params=data)\n",
    "        s = Session()\n",
    "        for cookie in self.driver.get_cookies():\n",
    "            c = {cookie['name']: cookie['value']}\n",
    "            s.cookies.update(c)\n",
    "        prepped = s.prepare_request(req)\n",
    "        resp = s.send(prepped)\n",
    "        return resp.json()"
   ]
  },
  {
   "cell_type": "code",
   "execution_count": 43,
   "metadata": {
    "collapsed": false
   },
   "outputs": [
    {
     "ename": "NoSuchElementException",
     "evalue": "Message: no such element: Unable to locate element: {\"method\":\"id\",\"selector\":\"txtAccount\"}\n  (Session info: chrome=54.0.2840.71)\n  (Driver info: chromedriver=2.24.417424 (c5c5ea873213ee72e3d0929b47482681555340c3),platform=Linux 4.4.0-45-generic x86_64)\n",
     "output_type": "error",
     "traceback": [
      "\u001b[0;31m---------------------------------------------------------------------------\u001b[0m",
      "\u001b[0;31mNoSuchElementException\u001b[0m                    Traceback (most recent call last)",
      "\u001b[0;32m<ipython-input-43-3dab688c7701>\u001b[0m in \u001b[0;36m<module>\u001b[0;34m()\u001b[0m\n\u001b[0;32m----> 1\u001b[0;31m \u001b[0melement\u001b[0m \u001b[0;34m=\u001b[0m \u001b[0mdx\u001b[0m\u001b[0;34m.\u001b[0m\u001b[0mdriver\u001b[0m\u001b[0;34m.\u001b[0m\u001b[0mfind_element_by_id\u001b[0m\u001b[0;34m(\u001b[0m\u001b[0;34m'txtAccount'\u001b[0m\u001b[0;34m)\u001b[0m\u001b[0;34m\u001b[0m\u001b[0m\n\u001b[0m",
      "\u001b[0;32m/home/xu/flask2/venv/lib/python3.5/site-packages/selenium/webdriver/remote/webdriver.py\u001b[0m in \u001b[0;36mfind_element_by_id\u001b[0;34m(self, id_)\u001b[0m\n\u001b[1;32m    267\u001b[0m             \u001b[0mdriver\u001b[0m\u001b[0;34m.\u001b[0m\u001b[0mfind_element_by_id\u001b[0m\u001b[0;34m(\u001b[0m\u001b[0;34m'foo'\u001b[0m\u001b[0;34m)\u001b[0m\u001b[0;34m\u001b[0m\u001b[0m\n\u001b[1;32m    268\u001b[0m         \"\"\"\n\u001b[0;32m--> 269\u001b[0;31m         \u001b[0;32mreturn\u001b[0m \u001b[0mself\u001b[0m\u001b[0;34m.\u001b[0m\u001b[0mfind_element\u001b[0m\u001b[0;34m(\u001b[0m\u001b[0mby\u001b[0m\u001b[0;34m=\u001b[0m\u001b[0mBy\u001b[0m\u001b[0;34m.\u001b[0m\u001b[0mID\u001b[0m\u001b[0;34m,\u001b[0m \u001b[0mvalue\u001b[0m\u001b[0;34m=\u001b[0m\u001b[0mid_\u001b[0m\u001b[0;34m)\u001b[0m\u001b[0;34m\u001b[0m\u001b[0m\n\u001b[0m\u001b[1;32m    270\u001b[0m \u001b[0;34m\u001b[0m\u001b[0m\n\u001b[1;32m    271\u001b[0m     \u001b[0;32mdef\u001b[0m \u001b[0mfind_elements_by_id\u001b[0m\u001b[0;34m(\u001b[0m\u001b[0mself\u001b[0m\u001b[0;34m,\u001b[0m \u001b[0mid_\u001b[0m\u001b[0;34m)\u001b[0m\u001b[0;34m:\u001b[0m\u001b[0;34m\u001b[0m\u001b[0m\n",
      "\u001b[0;32m/home/xu/flask2/venv/lib/python3.5/site-packages/selenium/webdriver/remote/webdriver.py\u001b[0m in \u001b[0;36mfind_element\u001b[0;34m(self, by, value)\u001b[0m\n\u001b[1;32m    750\u001b[0m         return self.execute(Command.FIND_ELEMENT, {\n\u001b[1;32m    751\u001b[0m             \u001b[0;34m'using'\u001b[0m\u001b[0;34m:\u001b[0m \u001b[0mby\u001b[0m\u001b[0;34m,\u001b[0m\u001b[0;34m\u001b[0m\u001b[0m\n\u001b[0;32m--> 752\u001b[0;31m             'value': value})['value']\n\u001b[0m\u001b[1;32m    753\u001b[0m \u001b[0;34m\u001b[0m\u001b[0m\n\u001b[1;32m    754\u001b[0m     \u001b[0;32mdef\u001b[0m \u001b[0mfind_elements\u001b[0m\u001b[0;34m(\u001b[0m\u001b[0mself\u001b[0m\u001b[0;34m,\u001b[0m \u001b[0mby\u001b[0m\u001b[0;34m=\u001b[0m\u001b[0mBy\u001b[0m\u001b[0;34m.\u001b[0m\u001b[0mID\u001b[0m\u001b[0;34m,\u001b[0m \u001b[0mvalue\u001b[0m\u001b[0;34m=\u001b[0m\u001b[0;32mNone\u001b[0m\u001b[0;34m)\u001b[0m\u001b[0;34m:\u001b[0m\u001b[0;34m\u001b[0m\u001b[0m\n",
      "\u001b[0;32m/home/xu/flask2/venv/lib/python3.5/site-packages/selenium/webdriver/remote/webdriver.py\u001b[0m in \u001b[0;36mexecute\u001b[0;34m(self, driver_command, params)\u001b[0m\n\u001b[1;32m    234\u001b[0m         \u001b[0mresponse\u001b[0m \u001b[0;34m=\u001b[0m \u001b[0mself\u001b[0m\u001b[0;34m.\u001b[0m\u001b[0mcommand_executor\u001b[0m\u001b[0;34m.\u001b[0m\u001b[0mexecute\u001b[0m\u001b[0;34m(\u001b[0m\u001b[0mdriver_command\u001b[0m\u001b[0;34m,\u001b[0m \u001b[0mparams\u001b[0m\u001b[0;34m)\u001b[0m\u001b[0;34m\u001b[0m\u001b[0m\n\u001b[1;32m    235\u001b[0m         \u001b[0;32mif\u001b[0m \u001b[0mresponse\u001b[0m\u001b[0;34m:\u001b[0m\u001b[0;34m\u001b[0m\u001b[0m\n\u001b[0;32m--> 236\u001b[0;31m             \u001b[0mself\u001b[0m\u001b[0;34m.\u001b[0m\u001b[0merror_handler\u001b[0m\u001b[0;34m.\u001b[0m\u001b[0mcheck_response\u001b[0m\u001b[0;34m(\u001b[0m\u001b[0mresponse\u001b[0m\u001b[0;34m)\u001b[0m\u001b[0;34m\u001b[0m\u001b[0m\n\u001b[0m\u001b[1;32m    237\u001b[0m             response['value'] = self._unwrap_value(\n\u001b[1;32m    238\u001b[0m                 response.get('value', None))\n",
      "\u001b[0;32m/home/xu/flask2/venv/lib/python3.5/site-packages/selenium/webdriver/remote/errorhandler.py\u001b[0m in \u001b[0;36mcheck_response\u001b[0;34m(self, response)\u001b[0m\n\u001b[1;32m    190\u001b[0m         \u001b[0;32melif\u001b[0m \u001b[0mexception_class\u001b[0m \u001b[0;34m==\u001b[0m \u001b[0mUnexpectedAlertPresentException\u001b[0m \u001b[0;32mand\u001b[0m \u001b[0;34m'alert'\u001b[0m \u001b[0;32min\u001b[0m \u001b[0mvalue\u001b[0m\u001b[0;34m:\u001b[0m\u001b[0;34m\u001b[0m\u001b[0m\n\u001b[1;32m    191\u001b[0m             \u001b[0;32mraise\u001b[0m \u001b[0mexception_class\u001b[0m\u001b[0;34m(\u001b[0m\u001b[0mmessage\u001b[0m\u001b[0;34m,\u001b[0m \u001b[0mscreen\u001b[0m\u001b[0;34m,\u001b[0m \u001b[0mstacktrace\u001b[0m\u001b[0;34m,\u001b[0m \u001b[0mvalue\u001b[0m\u001b[0;34m[\u001b[0m\u001b[0;34m'alert'\u001b[0m\u001b[0;34m]\u001b[0m\u001b[0;34m.\u001b[0m\u001b[0mget\u001b[0m\u001b[0;34m(\u001b[0m\u001b[0;34m'text'\u001b[0m\u001b[0;34m)\u001b[0m\u001b[0;34m)\u001b[0m\u001b[0;34m\u001b[0m\u001b[0m\n\u001b[0;32m--> 192\u001b[0;31m         \u001b[0;32mraise\u001b[0m \u001b[0mexception_class\u001b[0m\u001b[0;34m(\u001b[0m\u001b[0mmessage\u001b[0m\u001b[0;34m,\u001b[0m \u001b[0mscreen\u001b[0m\u001b[0;34m,\u001b[0m \u001b[0mstacktrace\u001b[0m\u001b[0;34m)\u001b[0m\u001b[0;34m\u001b[0m\u001b[0m\n\u001b[0m\u001b[1;32m    193\u001b[0m \u001b[0;34m\u001b[0m\u001b[0m\n\u001b[1;32m    194\u001b[0m     \u001b[0;32mdef\u001b[0m \u001b[0m_value_or_default\u001b[0m\u001b[0;34m(\u001b[0m\u001b[0mself\u001b[0m\u001b[0;34m,\u001b[0m \u001b[0mobj\u001b[0m\u001b[0;34m,\u001b[0m \u001b[0mkey\u001b[0m\u001b[0;34m,\u001b[0m \u001b[0mdefault\u001b[0m\u001b[0;34m)\u001b[0m\u001b[0;34m:\u001b[0m\u001b[0;34m\u001b[0m\u001b[0m\n",
      "\u001b[0;31mNoSuchElementException\u001b[0m: Message: no such element: Unable to locate element: {\"method\":\"id\",\"selector\":\"txtAccount\"}\n  (Session info: chrome=54.0.2840.71)\n  (Driver info: chromedriver=2.24.417424 (c5c5ea873213ee72e3d0929b47482681555340c3),platform=Linux 4.4.0-45-generic x86_64)\n"
     ]
    }
   ],
   "source": []
  },
  {
   "cell_type": "code",
   "execution_count": 158,
   "metadata": {
    "collapsed": false
   },
   "outputs": [],
   "source": [
    "dx= dianxin()"
   ]
  },
  {
   "cell_type": "code",
   "execution_count": 159,
   "metadata": {
    "collapsed": false,
    "scrolled": false
   },
   "outputs": [
    {
     "name": "stdout",
     "output_type": "stream",
     "text": [
      "(<__main__.dianxin object at 0x7fe3d40d1128>, '18017054741', '427755')\n"
     ]
    },
    {
     "data": {
      "text/plain": [
       "True"
      ]
     },
     "execution_count": 159,
     "metadata": {},
     "output_type": "execute_result"
    }
   ],
   "source": [
    "dx.login('18017054741','427755')"
   ]
  },
  {
   "cell_type": "code",
   "execution_count": 165,
   "metadata": {
    "collapsed": false
   },
   "outputs": [],
   "source": [
    "passtxt=dx.driver.find_element_by_id('txtPassword')\n",
    "passtxt.clear()"
   ]
  },
  {
   "cell_type": "code",
   "execution_count": 133,
   "metadata": {
    "collapsed": false
   },
   "outputs": [],
   "source": [
    "licaptcha = dx.driver.find_element_by_id('liCaptcha')"
   ]
  },
  {
   "cell_type": "code",
   "execution_count": 134,
   "metadata": {
    "collapsed": false
   },
   "outputs": [
    {
     "data": {
      "text/plain": [
       "'display: none;'"
      ]
     },
     "execution_count": 134,
     "metadata": {},
     "output_type": "execute_result"
    }
   ],
   "source": [
    "licaptcha.get_attribute('style')"
   ]
  },
  {
   "cell_type": "code",
   "execution_count": 155,
   "metadata": {
    "collapsed": false
   },
   "outputs": [
    {
     "name": "stdout",
     "output_type": "stream",
     "text": [
      "False\n"
     ]
    }
   ],
   "source": [
    "A ='no'\n",
    "C = True\n",
    "b = not A\n",
    "d = not C\n",
    "print(b)"
   ]
  },
  {
   "cell_type": "code",
   "execution_count": 156,
   "metadata": {
    "collapsed": false
   },
   "outputs": [
    {
     "name": "stdout",
     "output_type": "stream",
     "text": [
      "sdsd\n"
     ]
    }
   ],
   "source": [
    "if 'sdsdsdf':\n",
    "    print('sdsd')"
   ]
  },
  {
   "cell_type": "code",
   "execution_count": 152,
   "metadata": {
    "collapsed": false
   },
   "outputs": [
    {
     "ename": "NameError",
     "evalue": "name 'captchaA' is not defined",
     "output_type": "error",
     "traceback": [
      "\u001b[0;31m---------------------------------------------------------------------------\u001b[0m",
      "\u001b[0;31mNameError\u001b[0m                                 Traceback (most recent call last)",
      "\u001b[0;32m<ipython-input-152-a94ec1cdbeed>\u001b[0m in \u001b[0;36m<module>\u001b[0;34m()\u001b[0m\n\u001b[0;32m----> 1\u001b[0;31m \u001b[0ma\u001b[0m \u001b[0;34m=\u001b[0m\u001b[0mcaptchaA\u001b[0m \u001b[0;32mif\u001b[0m \u001b[0mcaptchaA\u001b[0m \u001b[0;34m!=\u001b[0m\u001b[0;34m'no'\u001b[0m \u001b[0;32melse\u001b[0m \u001b[0;32mFalse\u001b[0m\u001b[0;34m\u001b[0m\u001b[0m\n\u001b[0m",
      "\u001b[0;31mNameError\u001b[0m: name 'captchaA' is not defined"
     ]
    }
   ],
   "source": [
    "a =captchaA if captchaA !='no' else False"
   ]
  },
  {
   "cell_type": "code",
   "execution_count": 147,
   "metadata": {
    "collapsed": false
   },
   "outputs": [
    {
     "data": {
      "text/plain": [
       "[<selenium.webdriver.remote.webelement.WebElement (session=\"a879c45ca9121de014a223acea7c8449\", element=\"0.41983300001816737-5\")>]"
      ]
     },
     "execution_count": 147,
     "metadata": {},
     "output_type": "execute_result"
    }
   ],
   "source": [
    "a"
   ]
  },
  {
   "cell_type": "code",
   "execution_count": 3,
   "metadata": {
    "collapsed": false
   },
   "outputs": [],
   "source": [
    "dx.driver.get('http://login.189.cn/login')\n",
    "element = dx.driver.find_element_by_id('txtAccount')"
   ]
  },
  {
   "cell_type": "code",
   "execution_count": 4,
   "metadata": {
    "collapsed": false,
    "scrolled": true
   },
   "outputs": [
    {
     "data": {
      "text/plain": [
       "''"
      ]
     },
     "execution_count": 4,
     "metadata": {},
     "output_type": "execute_result"
    }
   ],
   "source": [
    "diverr = dm.driver.find_element_by_id('divErr')\n",
    "diverr.text"
   ]
  },
  {
   "cell_type": "code",
   "execution_count": 13,
   "metadata": {
    "collapsed": false
   },
   "outputs": [
    {
     "name": "stdout",
     "output_type": "stream",
     "text": [
      "Help on method get_property in module selenium.webdriver.remote.webelement:\n",
      "\n",
      "get_property(name) method of selenium.webdriver.remote.webelement.WebElement instance\n",
      "    Gets the given property of the element.\n",
      "    \n",
      "    :Args:\n",
      "        - name - Name of the property to retrieve.\n",
      "    \n",
      "    Example::\n",
      "    \n",
      "        # Check if the \"active\" CSS class is applied to an element.\n",
      "        text_length = target_element.get_property(\"text_length\")\n",
      "\n"
     ]
    }
   ],
   "source": [
    "'style '"
   ]
  },
  {
   "cell_type": "code",
   "execution_count": 36,
   "metadata": {
    "collapsed": true
   },
   "outputs": [],
   "source": [
    "dx = dianxin()"
   ]
  },
  {
   "cell_type": "code",
   "execution_count": 38,
   "metadata": {
    "collapsed": false,
    "scrolled": false
   },
   "outputs": [
    {
     "name": "stdout",
     "output_type": "stream",
     "text": [
      "(<__main__.dianxin object at 0x7fe3e8e93a58>, '18017054743', '427755')\n"
     ]
    },
    {
     "data": {
      "text/plain": [
       "True"
      ]
     },
     "execution_count": 38,
     "metadata": {},
     "output_type": "execute_result"
    }
   ],
   "source": [
    "dx.login('18017054743','427755')"
   ]
  },
  {
   "cell_type": "code",
   "execution_count": 54,
   "metadata": {
    "collapsed": false
   },
   "outputs": [
    {
     "data": {
      "text/plain": [
       "True"
      ]
     },
     "execution_count": 54,
     "metadata": {},
     "output_type": "execute_result"
    }
   ],
   "source": [
    "dx.has_captcha()"
   ]
  },
  {
   "cell_type": "code",
   "execution_count": 30,
   "metadata": {
    "collapsed": false
   },
   "outputs": [
    {
     "data": {
      "text/plain": [
       "'您的密码错误！再连续3次输入错误，账号将被锁！'"
      ]
     },
     "execution_count": 30,
     "metadata": {},
     "output_type": "execute_result"
    }
   ],
   "source": [
    "diverrdx = dx.driver.find_element_by_id('divErr')\n",
    "diverrdx.text"
   ]
  },
  {
   "cell_type": "code",
   "execution_count": 32,
   "metadata": {
    "collapsed": false
   },
   "outputs": [
    {
     "ename": "SyntaxError",
     "evalue": "invalid syntax (<ipython-input-32-cbfa2a985268>, line 1)",
     "output_type": "error",
     "traceback": [
      "\u001b[0;36m  File \u001b[0;32m\"<ipython-input-32-cbfa2a985268>\"\u001b[0;36m, line \u001b[0;32m1\u001b[0m\n\u001b[0;31m    in diverr.get_attribute('id')\u001b[0m\n\u001b[0m     ^\u001b[0m\n\u001b[0;31mSyntaxError\u001b[0m\u001b[0;31m:\u001b[0m invalid syntax\n"
     ]
    }
   ],
   "source": [
    "diverr.get_attribute('id')"
   ]
  },
  {
   "cell_type": "code",
   "execution_count": 26,
   "metadata": {
    "collapsed": false
   },
   "outputs": [
    {
     "data": {
      "text/plain": [
       "''"
      ]
     },
     "execution_count": 26,
     "metadata": {},
     "output_type": "execute_result"
    }
   ],
   "source": [
    "diverrdx.get_attribute('style')"
   ]
  },
  {
   "cell_type": "code",
   "execution_count": 68,
   "metadata": {
    "collapsed": false
   },
   "outputs": [
    {
     "data": {
      "text/plain": [
       "<module 'selenium.webdriver' from '/home/xu/flask2/venv/lib/python3.5/site-packages/selenium/webdriver/__init__.py'>"
      ]
     },
     "execution_count": 68,
     "metadata": {},
     "output_type": "execute_result"
    }
   ],
   "source": [
    "webdriver."
   ]
  },
  {
   "cell_type": "code",
   "execution_count": 157,
   "metadata": {
    "collapsed": false
   },
   "outputs": [],
   "source": [
    "dm.driver.get('http://service.sh.189.cn/service/query/detail')"
   ]
  },
  {
   "cell_type": "markdown",
   "metadata": {},
   "source": [
    "# Redis-==>>>>  cookies "
   ]
  },
  {
   "cell_type": "code",
   "execution_count": 139,
   "metadata": {
    "collapsed": false
   },
   "outputs": [],
   "source": [
    "import redis\n",
    "import pickle\n",
    "r = redis.StrictRedis()\n",
    "cookies = pickle.loads(r.hget('18017054743','cookies'))\n",
    "dm.driver.delete_all_cookies()\n",
    "for c in cookies:\n",
    "    dm.driver.add_cookie({'name':c['name'],'value':c['value']})"
   ]
  },
  {
   "cell_type": "markdown",
   "metadata": {},
   "source": [
    "# cookies-==>>>>Redis"
   ]
  },
  {
   "cell_type": "code",
   "execution_count": 138,
   "metadata": {
    "collapsed": false
   },
   "outputs": [
    {
     "data": {
      "text/plain": [
       "True"
      ]
     },
     "execution_count": 138,
     "metadata": {},
     "output_type": "execute_result"
    }
   ],
   "source": [
    "dm.r.hmset('18017054743',{'cookies':dm.get_cookies(),'stage':'login_succeed','passwd':'427755'})"
   ]
  },
  {
   "cell_type": "code",
   "execution_count": null,
   "metadata": {
    "collapsed": false
   },
   "outputs": [],
   "source": [
    "dm.driver.get_cookies()"
   ]
  },
  {
   "cell_type": "code",
   "execution_count": 128,
   "metadata": {
    "collapsed": false
   },
   "outputs": [],
   "source": []
  },
  {
   "cell_type": "code",
   "execution_count": 132,
   "metadata": {
    "collapsed": false
   },
   "outputs": [],
   "source": []
  },
  {
   "cell_type": "code",
   "execution_count": 107,
   "metadata": {
    "collapsed": false
   },
   "outputs": [
    {
     "name": "stdout",
     "output_type": "stream",
     "text": [
      "Help on method add_cookie in module selenium.webdriver.remote.webdriver:\n",
      "\n",
      "add_cookie(cookie_dict) method of selenium.webdriver.chrome.webdriver.WebDriver instance\n",
      "    Adds a cookie to your current session.\n",
      "    \n",
      "    :Args:\n",
      "     - cookie_dict: A dictionary object, with required keys - \"name\" and \"value\";\n",
      "        optional keys - \"path\", \"domain\", \"secure\", \"expiry\"\n",
      "    \n",
      "    Usage:\n",
      "        driver.add_cookie({'name' : 'foo', 'value' : 'bar'})\n",
      "        driver.add_cookie({'name' : 'foo', 'value' : 'bar', 'path' : '/'})\n",
      "        driver.add_cookie({'name' : 'foo', 'value' : 'bar', 'path' : '/', 'secure':True})\n",
      "\n"
     ]
    }
   ],
   "source": [
    "help(dm.driver.add_cookie)"
   ]
  },
  {
   "cell_type": "code",
   "execution_count": null,
   "metadata": {
    "collapsed": true
   },
   "outputs": [],
   "source": []
  },
  {
   "cell_type": "code",
   "execution_count": 104,
   "metadata": {
    "collapsed": false
   },
   "outputs": [
    {
     "data": {
      "text/plain": [
       "[{'domain': 'graph.qq.com',\n",
       "  'httpOnly': False,\n",
       "  'name': '__qc_wId',\n",
       "  'path': '/',\n",
       "  'secure': False,\n",
       "  'value': '111'}]"
      ]
     },
     "execution_count": 104,
     "metadata": {},
     "output_type": "execute_result"
    }
   ],
   "source": [
    "dm.driver.add"
   ]
  },
  {
   "cell_type": "code",
   "execution_count": 74,
   "metadata": {
    "collapsed": true
   },
   "outputs": [],
   "source": [
    "def get_detail(self):\n",
    "        data = {\n",
    "            'begin':0,\n",
    "            'bill_type':'SCP',\n",
    "            'dateType':'now',\n",
    "            'devNo':'18017054743',\n",
    "            'end':10,\n",
    "            'endDate':'2016-10-13',\n",
    "            'flag':1,\n",
    "            'startDate':'2016-10-01'\n",
    "        }\n",
    "        req = Request('GET','http://service.sh.189.cn/service/service/authority/query/billdetailQuery.do', params=data)\n",
    "        s = Session()\n",
    "        for cookie in self.driver.get_cookies():\n",
    "            c = {cookie['name']: cookie['value']}\n",
    "            s.cookies.update(c)\n",
    "        prepped = s.prepare_request(req)\n",
    "        resp = s.send(prepped)\n",
    "        return resp.json()"
   ]
  },
  {
   "cell_type": "code",
   "execution_count": null,
   "metadata": {
    "collapsed": false
   },
   "outputs": [],
   "source": []
  },
  {
   "cell_type": "code",
   "execution_count": 94,
   "metadata": {
    "collapsed": false
   },
   "outputs": [],
   "source": [
    "from requests import Request, Session\n",
    "#get_detail(dx)"
   ]
  },
  {
   "cell_type": "code",
   "execution_count": 79,
   "metadata": {
    "collapsed": true
   },
   "outputs": [],
   "source": [
    "import redis"
   ]
  },
  {
   "cell_type": "code",
   "execution_count": 31,
   "metadata": {
    "collapsed": false
   },
   "outputs": [
    {
     "name": "stdout",
     "output_type": "stream",
     "text": [
      "SMS?:223435\n",
      "223435\n"
     ]
    }
   ],
   "source": [
    "sms=input('SMS?:')\n",
    "print(sms)"
   ]
  },
  {
   "cell_type": "code",
   "execution_count": 38,
   "metadata": {
    "collapsed": true
   },
   "outputs": [],
   "source": [
    "btn = dx.driver.find_element_by_css_selector('input.sub-btn.item-text')"
   ]
  },
  {
   "cell_type": "code",
   "execution_count": 56,
   "metadata": {
    "collapsed": false
   },
   "outputs": [],
   "source": [
    "dx.driver.find_element_by_id('J_Flow_Fail').find_element_by_class_name('modal-head').find_element_by_tag_name('i').click()"
   ]
  },
  {
   "cell_type": "code",
   "execution_count": 54,
   "metadata": {
    "collapsed": false
   },
   "outputs": [],
   "source": [
    "btnXX = btnX.find_element_by_class_name('modal-head')\n",
    "btnX.find_element_by_tag_name('i').click()"
   ]
  },
  {
   "cell_type": "code",
   "execution_count": 32,
   "metadata": {
    "collapsed": false
   },
   "outputs": [],
   "source": [
    "dx.driver.get('http://service.sh.189.cn/service/query/detail')"
   ]
  },
  {
   "cell_type": "code",
   "execution_count": 35,
   "metadata": {
    "collapsed": false
   },
   "outputs": [],
   "source": [
    "dx.driver.add_cookie(dx.driver.get_cookies())"
   ]
  },
  {
   "cell_type": "code",
   "execution_count": 28,
   "metadata": {
    "collapsed": false
   },
   "outputs": [
    {
     "ename": "PicklingError",
     "evalue": "Can't pickle <function StrictRedis.<lambda> at 0x7f7ced337598>: attribute lookup StrictRedis.<lambda> on redis.client failed",
     "output_type": "error",
     "traceback": [
      "\u001b[0;31m---------------------------------------------------------------------------\u001b[0m",
      "\u001b[0;31mPicklingError\u001b[0m                             Traceback (most recent call last)",
      "\u001b[0;32m<ipython-input-28-4d320d70968e>\u001b[0m in \u001b[0;36m<module>\u001b[0;34m()\u001b[0m\n\u001b[1;32m      1\u001b[0m \u001b[0;32mimport\u001b[0m \u001b[0msys\u001b[0m\u001b[0;34m\u001b[0m\u001b[0m\n\u001b[1;32m      2\u001b[0m \u001b[0msys\u001b[0m\u001b[0;34m.\u001b[0m\u001b[0mgetsizeof\u001b[0m\u001b[0;34m(\u001b[0m\u001b[0mdx\u001b[0m\u001b[0;34m)\u001b[0m\u001b[0;34m\u001b[0m\u001b[0m\n\u001b[0;32m----> 3\u001b[0;31m \u001b[0msd\u001b[0m \u001b[0;34m=\u001b[0m \u001b[0mpickle\u001b[0m\u001b[0;34m.\u001b[0m\u001b[0mdumps\u001b[0m\u001b[0;34m(\u001b[0m\u001b[0mdx\u001b[0m\u001b[0;34m)\u001b[0m\u001b[0;34m\u001b[0m\u001b[0m\n\u001b[0m",
      "\u001b[0;31mPicklingError\u001b[0m: Can't pickle <function StrictRedis.<lambda> at 0x7f7ced337598>: attribute lookup StrictRedis.<lambda> on redis.client failed"
     ]
    }
   ],
   "source": [
    "import sys\n",
    "sys.getsizeof(dx)\n",
    "sd = pickle.dumps(dx)"
   ]
  },
  {
   "cell_type": "code",
   "execution_count": 79,
   "metadata": {
    "collapsed": false
   },
   "outputs": [
    {
     "data": {
      "text/plain": [
       "requests.cookies.RequestsCookieJar"
      ]
     },
     "execution_count": 79,
     "metadata": {},
     "output_type": "execute_result"
    }
   ],
   "source": [
    "from requests import Request, Session\n",
    "s=Session()\n",
    "#dx.driver.get_cookies()\n",
    "dx.driver.get_cookie('_pk_id.5.6268')\n",
    "for cookie in dx.driver.get_cookies():\n",
    "    c = {cookie['name']: cookie['value']}\n",
    "    # print(cookie['name'],cookie['value'])\n",
    "    s.cookies.update(c)"
   ]
  },
  {
   "cell_type": "code",
   "execution_count": 12,
   "metadata": {
    "collapsed": false
   },
   "outputs": [],
   "source": [
    "import pickle\n",
    "d=dx.driver.get_cookies()\n",
    "s_d =pickle.dumps(d)\n",
    "#pickle.loads(s_d)"
   ]
  },
  {
   "cell_type": "code",
   "execution_count": 14,
   "metadata": {
    "collapsed": false
   },
   "outputs": [
    {
     "data": {
      "text/plain": [
       "True"
      ]
     },
     "execution_count": 14,
     "metadata": {},
     "output_type": "execute_result"
    }
   ],
   "source": [
    "import redis\n",
    "r = redis.StrictRedis()\n",
    "r.hmset('18017054743',{'cookies':s_d,'stage':'login_succeed'})"
   ]
  },
  {
   "cell_type": "code",
   "execution_count": 34,
   "metadata": {
    "collapsed": false
   },
   "outputs": [
    {
     "ename": "SyntaxError",
     "evalue": "invalid syntax (<ipython-input-34-7cb2232d0ea7>, line 2)",
     "output_type": "error",
     "traceback": [
      "\u001b[0;36m  File \u001b[0;32m\"<ipython-input-34-7cb2232d0ea7>\"\u001b[0;36m, line \u001b[0;32m2\u001b[0m\n\u001b[0;31m    to_updat =\u001b[0m\n\u001b[0m               ^\u001b[0m\n\u001b[0;31mSyntaxError\u001b[0m\u001b[0;31m:\u001b[0m invalid syntax\n"
     ]
    }
   ],
   "source": [
    "cookies = pickle.loads(r.hget('18017054743','cookies'))\n",
    "to_updat ="
   ]
  },
  {
   "cell_type": "code",
   "execution_count": 17,
   "metadata": {
    "collapsed": false
   },
   "outputs": [],
   "source": [
    "#pickle.loads(r.hget('18017054743','cookies'))"
   ]
  },
  {
   "cell_type": "code",
   "execution_count": 65,
   "metadata": {
    "collapsed": false
   },
   "outputs": [],
   "source": [
    "def has_captcha():\n",
    "    in_ele = dx.driver.find_element_by_id('liCaptcha')\n",
    "    return not 'display: none' in in_ele.get_attribute('style')"
   ]
  },
  {
   "cell_type": "code",
   "execution_count": 37,
   "metadata": {
    "collapsed": false
   },
   "outputs": [],
   "source": [
    "from selenium.webdriver import ActionChains\n",
    "def send_key(self,ele, keys):\n",
    "    ele.clear()\n",
    "    (\n",
    "    ActionChains(self.driver)\n",
    "    .move_to_element(ele)\n",
    "    .click()\n",
    "    .send_keys(keys)\n",
    "    .perform()\n",
    "    )\n",
    "def has_error():\n",
    "    in_ele = dx.driver.find_element_by_id('divErr')\n",
    "    return not 'display: none' in in_ele.get_attribute('style')\n",
    "\n",
    "\n",
    "\n",
    "\n",
    "#print(has_error(),has_captcha())"
   ]
  },
  {
   "cell_type": "code",
   "execution_count": 16,
   "metadata": {
    "collapsed": false
   },
   "outputs": [
    {
     "data": {
      "text/plain": [
       "<__main__.dianxin at 0x7f24b06c5278>"
      ]
     },
     "execution_count": 16,
     "metadata": {},
     "output_type": "execute_result"
    }
   ],
   "source": [
    "dx"
   ]
  },
  {
   "cell_type": "markdown",
   "metadata": {},
   "source": [
    "# 输入用户密码并登陆"
   ]
  },
  {
   "cell_type": "code",
   "execution_count": 52,
   "metadata": {
    "collapsed": false
   },
   "outputs": [],
   "source": [
    "dx.driver.refresh()"
   ]
  },
  {
   "cell_type": "code",
   "execution_count": 34,
   "metadata": {
    "collapsed": false
   },
   "outputs": [],
   "source": [
    "input =dx.driver.find_element_by_id('txtAccount')\n",
    "input.clear()"
   ]
  },
  {
   "cell_type": "code",
   "execution_count": 55,
   "metadata": {
    "collapsed": false
   },
   "outputs": [],
   "source": [
    "send_key(dx,dx.driver.find_element_by_id('txtAccount'),'18017054742')"
   ]
  },
  {
   "cell_type": "code",
   "execution_count": 33,
   "metadata": {
    "collapsed": false,
    "scrolled": true
   },
   "outputs": [],
   "source": [
    "#send_key(dx,dx.driver.find_element_by_id('txtShowPwd'),'427755')"
   ]
  },
  {
   "cell_type": "code",
   "execution_count": 58,
   "metadata": {
    "collapsed": false
   },
   "outputs": [
    {
     "name": "stdout",
     "output_type": "stream",
     "text": [
      "True True\n"
     ]
    }
   ],
   "source": [
    "print(dx.has_captcha(),dx.has_error())"
   ]
  },
  {
   "cell_type": "code",
   "execution_count": null,
   "metadata": {
    "collapsed": true
   },
   "outputs": [],
   "source": [
    "btn = dx.driver.find_element_by_id('loginbtn')\n",
    "btn.click()"
   ]
  },
  {
   "cell_type": "markdown",
   "metadata": {},
   "source": [
    "# 判断主页是否有recaptcha"
   ]
  },
  {
   "cell_type": "markdown",
   "metadata": {},
   "source": [
    "# 获取recaptcha图像的位置信息"
   ]
  },
  {
   "cell_type": "code",
   "execution_count": 57,
   "metadata": {
    "collapsed": false
   },
   "outputs": [
    {
     "ename": "ImportError",
     "evalue": "No module named 'numpy'",
     "output_type": "error",
     "traceback": [
      "\u001b[0;31m---------------------------------------------------------------------------\u001b[0m",
      "\u001b[0;31mImportError\u001b[0m                               Traceback (most recent call last)",
      "\u001b[0;32m<ipython-input-57-5a0bd626bb1d>\u001b[0m in \u001b[0;36m<module>\u001b[0;34m()\u001b[0m\n\u001b[0;32m----> 1\u001b[0;31m \u001b[0;32mimport\u001b[0m \u001b[0mnumpy\u001b[0m\u001b[0;34m\u001b[0m\u001b[0m\n\u001b[0m",
      "\u001b[0;31mImportError\u001b[0m: No module named 'numpy'"
     ]
    }
   ],
   "source": [
    "import numpy"
   ]
  },
  {
   "cell_type": "code",
   "execution_count": 5,
   "metadata": {
    "collapsed": false
   },
   "outputs": [
    {
     "data": {
      "text/plain": [
       "'http://login.189.cn/login'"
      ]
     },
     "execution_count": 5,
     "metadata": {},
     "output_type": "execute_result"
    }
   ],
   "source": [
    "driver1.current_url"
   ]
  },
  {
   "cell_type": "code",
   "execution_count": 6,
   "metadata": {
    "collapsed": false
   },
   "outputs": [],
   "source": [
    "captcha = driver1.find_element_by_id('txtPassword')\n",
    "location = [captcha.location['x'],captcha.location['y']]\n",
    "size = [captcha.size['width'],captcha.size['height']]"
   ]
  },
  {
   "cell_type": "code",
   "execution_count": 7,
   "metadata": {
    "collapsed": false
   },
   "outputs": [
    {
     "data": {
      "text/plain": [
       "[0, 0, 270, 44]"
      ]
     },
     "execution_count": 7,
     "metadata": {},
     "output_type": "execute_result"
    }
   ],
   "source": [
    "driver1.save_screenshot('test.png')\n",
    "def to_box(point, size):\n",
    "    from numpy import array\n",
    "    return point+list(array(point)+array(size))\n",
    "\n",
    "to_box(location,size)"
   ]
  },
  {
   "cell_type": "code",
   "execution_count": 65,
   "metadata": {
    "collapsed": false,
    "scrolled": true
   },
   "outputs": [],
   "source": [
    "from time import time"
   ]
  },
  {
   "cell_type": "code",
   "execution_count": 122,
   "metadata": {
    "collapsed": false,
    "scrolled": false
   },
   "outputs": [
    {
     "data": {
      "text/plain": [
       "'14775674524045'"
      ]
     },
     "execution_count": 122,
     "metadata": {},
     "output_type": "execute_result"
    }
   ],
   "source": [
    "str(time()*10000)[:14]"
   ]
  },
  {
   "cell_type": "code",
   "execution_count": 128,
   "metadata": {
    "collapsed": false
   },
   "outputs": [
    {
     "data": {
      "text/plain": [
       "7"
      ]
     },
     "execution_count": 128,
     "metadata": {},
     "output_type": "execute_result"
    }
   ],
   "source": [
    "a=5\n",
    "b=7\n",
    "a|b"
   ]
  },
  {
   "cell_type": "code",
   "execution_count": 125,
   "metadata": {
    "collapsed": false
   },
   "outputs": [
    {
     "name": "stdout",
     "output_type": "stream",
     "text": [
      "Help on method execute in module selenium.webdriver.remote.webdriver:\n",
      "\n",
      "execute(driver_command, params=None) method of selenium.webdriver.chrome.webdriver.WebDriver instance\n",
      "    Sends a command to be executed by a command.CommandExecutor.\n",
      "    \n",
      "    :Args:\n",
      "     - driver_command: The name of the command to execute as a string.\n",
      "     - params: A dictionary of named parameters to send with the command.\n",
      "    \n",
      "    :Returns:\n",
      "      The command's JSON response loaded into a dictionary object.\n",
      "\n"
     ]
    }
   ],
   "source": [
    "from selenium.webdriver."
   ]
  },
  {
   "cell_type": "code",
   "execution_count": 123,
   "metadata": {
    "collapsed": false
   },
   "outputs": [
    {
     "data": {
      "text/plain": [
       "'True'"
      ]
     },
     "execution_count": 123,
     "metadata": {},
     "output_type": "execute_result"
    }
   ],
   "source": [
    "str(True)"
   ]
  },
  {
   "cell_type": "markdown",
   "metadata": {},
   "source": [
    "# 截图并截取recaptcha"
   ]
  },
  {
   "cell_type": "code",
   "execution_count": 8,
   "metadata": {
    "collapsed": false
   },
   "outputs": [],
   "source": [
    "from PIL import Image\n",
    "\n",
    "img = Image.open('test.png')\n",
    "recaptha_image = img.crop(to_box(location,size))\n",
    "recaptha_image.save('captcha.png')"
   ]
  },
  {
   "cell_type": "markdown",
   "metadata": {},
   "source": [
    "# 将图片转化成base64"
   ]
  },
  {
   "cell_type": "code",
   "execution_count": null,
   "metadata": {
    "collapsed": true
   },
   "outputs": [],
   "source": [
    "import base64\n",
    "\n",
    "img_str = base64.b64encode(open('captcha.png','rb').read())"
   ]
  },
  {
   "cell_type": "code",
   "execution_count": 5,
   "metadata": {
    "collapsed": false
   },
   "outputs": [
    {
     "name": "stdout",
     "output_type": "stream",
     "text": [
      "no alert\n"
     ]
    }
   ],
   "source": [
    "from selenium.webdriver.support.ui import WebDriverWait\n",
    "from selenium.webdriver.support import expected_conditions as EC\n",
    "from selenium.common.exceptions import TimeoutException\n",
    "\n",
    "def has_alert():\n",
    "    try:\n",
    "        WebDriverWait(driver, 3).until(EC.alert_is_present(),\n",
    "                                       'Timed out waiting for PA creation ' +\n",
    "                                       'confirmation popup to appear.')\n",
    "\n",
    "        alert = driver.switch_to_alert()\n",
    "        alert.accept()\n",
    "        print(\"alert accepted\")\n",
    "    except TimeoutException:\n",
    "        print(\"no alert\")\n",
    "        \n",
    "has_alert()"
   ]
  },
  {
   "cell_type": "markdown",
   "metadata": {},
   "source": [
    "# 访问详单查询页面"
   ]
  },
  {
   "cell_type": "code",
   "execution_count": 79,
   "metadata": {
    "collapsed": false
   },
   "outputs": [],
   "source": [
    "driver.get('http://service.sh.189.cn/service/query/detail')"
   ]
  },
  {
   "cell_type": "markdown",
   "metadata": {},
   "source": [
    "# 点击发送验证码"
   ]
  },
  {
   "cell_type": "code",
   "execution_count": 80,
   "metadata": {
    "collapsed": false
   },
   "outputs": [],
   "source": [
    "btn = driver.find_element_by_css_selector('#sendPwd')\n",
    "btn.click()"
   ]
  },
  {
   "cell_type": "markdown",
   "metadata": {},
   "source": [
    "# 输入验证码并点击确认\n",
    "具体内容每次会变, 需要人工输入"
   ]
  },
  {
   "cell_type": "code",
   "execution_count": 81,
   "metadata": {
    "collapsed": false
   },
   "outputs": [],
   "source": [
    "send_key(\n",
    "    driver.find_element_by_id('input_code'),\n",
    "    '263376'\n",
    ")\n",
    "\n",
    "btn = driver.find_element_by_css_selector('input.sub-btn.item-text')\n",
    "btn.click()"
   ]
  },
  {
   "cell_type": "markdown",
   "metadata": {},
   "source": [
    "# 检测详单页面是否有alert窗口"
   ]
  },
  {
   "cell_type": "code",
   "execution_count": 83,
   "metadata": {
    "collapsed": false
   },
   "outputs": [
    {
     "data": {
      "text/plain": [
       "True"
      ]
     },
     "execution_count": 83,
     "metadata": {},
     "output_type": "execute_result"
    }
   ],
   "source": [
    "def has_alert():\n",
    "    in_ele = driver.find_element_by_id('J_Flow_Fail')\n",
    "    return not 'display: none' in in_ele.get_attribute('style')\n",
    "\n",
    "has_alert()"
   ]
  },
  {
   "cell_type": "markdown",
   "metadata": {},
   "source": [
    "# 创建带有登陆信息的session"
   ]
  },
  {
   "cell_type": "code",
   "execution_count": 84,
   "metadata": {
    "collapsed": false
   },
   "outputs": [],
   "source": [
    "from requests import Request, Session\n",
    "\n",
    "s = Session()\n",
    "for cookie in driver.get_cookies():\n",
    "\n",
    "    c = {cookie['name']: cookie['value']}\n",
    "\n",
    "    s.cookies.update(c)"
   ]
  },
  {
   "cell_type": "markdown",
   "metadata": {},
   "source": [
    "# 用session去准备一个requests, 查询后返回结果"
   ]
  },
  {
   "cell_type": "code",
   "execution_count": 85,
   "metadata": {
    "collapsed": false
   },
   "outputs": [
    {
     "data": {
      "text/plain": [
       "{'CODE': '0',\n",
       " 'RESULT': {'pagedResult': [{'index': 0,\n",
       "    'sumMoney': '62.4元',\n",
       "    'sumRow': '30',\n",
       "    'sumTime': '2小时28分49秒',\n",
       "    'temporaryCount': '0.0'},\n",
       "   {'beginTime': '2016-10-02 05:45:29',\n",
       "    'callDuriation': '0小时1分17秒',\n",
       "    'callType': '被叫',\n",
       "    'calledPartyVisitedCity': '上海',\n",
       "    'callingPartyVisitedCity': '上海',\n",
       "    'chargedParty': '18017054743',\n",
       "    'fee1': '0.00',\n",
       "    'fee2': '0.00',\n",
       "    'fee3': '0.00',\n",
       "    'fee4': '0.00',\n",
       "    'forwardingFlag': '',\n",
       "    'fowardingNumber': '',\n",
       "    'index': 0,\n",
       "    'longDistanceType': '本地',\n",
       "    'prodId': '18017054743',\n",
       "    'productLineName': '1',\n",
       "    'targetParty': '17717627745',\n",
       "    'temporaryCount': '-0.01',\n",
       "    'totalFee': '0.00'},\n",
       "   {'beginTime': '2016-10-03 10:17:06',\n",
       "    'callDuriation': '0小时1分4秒',\n",
       "    'callType': '被叫',\n",
       "    'calledPartyVisitedCity': '山西.长治',\n",
       "    'callingPartyVisitedCity': '山西.长治',\n",
       "    'chargedParty': '18017054743',\n",
       "    'fee1': '0.00',\n",
       "    'fee2': '0.00',\n",
       "    'fee3': '0.00',\n",
       "    'fee4': '0.00',\n",
       "    'forwardingFlag': '',\n",
       "    'fowardingNumber': '',\n",
       "    'index': 0,\n",
       "    'longDistanceType': '漫游国内',\n",
       "    'prodId': '18017054743',\n",
       "    'productLineName': '1',\n",
       "    'targetParty': '13935511687',\n",
       "    'temporaryCount': '-0.01',\n",
       "    'totalFee': '0.00'},\n",
       "   {'beginTime': '2016-10-04 10:01:33',\n",
       "    'callDuriation': '0小时3分24秒',\n",
       "    'callType': '被叫',\n",
       "    'calledPartyVisitedCity': '山西.长治',\n",
       "    'callingPartyVisitedCity': '山西.长治',\n",
       "    'chargedParty': '18017054743',\n",
       "    'fee1': '0.00',\n",
       "    'fee2': '0.00',\n",
       "    'fee3': '0.00',\n",
       "    'fee4': '0.00',\n",
       "    'forwardingFlag': '',\n",
       "    'fowardingNumber': '',\n",
       "    'index': 0,\n",
       "    'longDistanceType': '漫游国内',\n",
       "    'prodId': '18017054743',\n",
       "    'productLineName': '1',\n",
       "    'targetParty': '0015109243478',\n",
       "    'temporaryCount': '-0.01',\n",
       "    'totalFee': '0.00'},\n",
       "   {'beginTime': '2016-10-04 15:46:12',\n",
       "    'callDuriation': '0小时0分34秒',\n",
       "    'callType': '被叫',\n",
       "    'calledPartyVisitedCity': '上海',\n",
       "    'callingPartyVisitedCity': '上海',\n",
       "    'chargedParty': '18017054743',\n",
       "    'fee1': '0.00',\n",
       "    'fee2': '0.00',\n",
       "    'fee3': '0.00',\n",
       "    'fee4': '0.00',\n",
       "    'forwardingFlag': '',\n",
       "    'fowardingNumber': '',\n",
       "    'index': 0,\n",
       "    'longDistanceType': '本地',\n",
       "    'prodId': '18017054743',\n",
       "    'productLineName': '1',\n",
       "    'targetParty': '13701830468',\n",
       "    'temporaryCount': '-0.01',\n",
       "    'totalFee': '0.00'},\n",
       "   {'beginTime': '2016-10-06 11:54:57',\n",
       "    'callDuriation': '0小时0分19秒',\n",
       "    'callType': '被叫',\n",
       "    'calledPartyVisitedCity': '上海',\n",
       "    'callingPartyVisitedCity': '上海',\n",
       "    'chargedParty': '18017054743',\n",
       "    'fee1': '0.00',\n",
       "    'fee2': '0.00',\n",
       "    'fee3': '0.00',\n",
       "    'fee4': '0.00',\n",
       "    'forwardingFlag': '',\n",
       "    'fowardingNumber': '',\n",
       "    'index': 0,\n",
       "    'longDistanceType': '本地',\n",
       "    'prodId': '18017054743',\n",
       "    'productLineName': '1',\n",
       "    'targetParty': '13651994413',\n",
       "    'temporaryCount': '-0.01',\n",
       "    'totalFee': '0.00'},\n",
       "   {'beginTime': '2016-10-06 21:30:35',\n",
       "    'callDuriation': '0小时1分21秒',\n",
       "    'callType': '主叫',\n",
       "    'calledPartyVisitedCity': '美国',\n",
       "    'callingPartyVisitedCity': '上海',\n",
       "    'chargedParty': '18017054743',\n",
       "    'fee1': '0.00',\n",
       "    'fee2': '11.20',\n",
       "    'fee3': '0.00',\n",
       "    'fee4': '0.00',\n",
       "    'forwardingFlag': '',\n",
       "    'fowardingNumber': '',\n",
       "    'index': 0,\n",
       "    'longDistanceType': '国际长途',\n",
       "    'prodId': '18017054743',\n",
       "    'productLineName': '1',\n",
       "    'targetParty': '0019794220510',\n",
       "    'temporaryCount': '-0.01',\n",
       "    'totalFee': '11.20'},\n",
       "   {'beginTime': '2016-10-06 21:32:38',\n",
       "    'callDuriation': '1小时8分25秒',\n",
       "    'callType': '被叫',\n",
       "    'calledPartyVisitedCity': '上海',\n",
       "    'callingPartyVisitedCity': '上海',\n",
       "    'chargedParty': '18017054743',\n",
       "    'fee1': '0.00',\n",
       "    'fee2': '0.00',\n",
       "    'fee3': '0.00',\n",
       "    'fee4': '0.00',\n",
       "    'forwardingFlag': '',\n",
       "    'fowardingNumber': '',\n",
       "    'index': 0,\n",
       "    'longDistanceType': '本地',\n",
       "    'prodId': '18017054743',\n",
       "    'productLineName': '1',\n",
       "    'targetParty': '0019794220510',\n",
       "    'temporaryCount': '-0.01',\n",
       "    'totalFee': '0.00'},\n",
       "   {'beginTime': '2016-10-07 18:31:07',\n",
       "    'callDuriation': '0小时0分34秒',\n",
       "    'callType': '主叫',\n",
       "    'calledPartyVisitedCity': '美国',\n",
       "    'callingPartyVisitedCity': '上海',\n",
       "    'chargedParty': '18017054743',\n",
       "    'fee1': '0.00',\n",
       "    'fee2': '4.80',\n",
       "    'fee3': '0.00',\n",
       "    'fee4': '0.00',\n",
       "    'forwardingFlag': '',\n",
       "    'fowardingNumber': '',\n",
       "    'index': 0,\n",
       "    'longDistanceType': '国际长途',\n",
       "    'prodId': '18017054743',\n",
       "    'productLineName': '1',\n",
       "    'targetParty': '0019794220510',\n",
       "    'temporaryCount': '-0.01',\n",
       "    'totalFee': '4.80'},\n",
       "   {'beginTime': '2016-10-07 18:32:11',\n",
       "    'callDuriation': '0小时0分3秒',\n",
       "    'callType': '主叫',\n",
       "    'calledPartyVisitedCity': '美国',\n",
       "    'callingPartyVisitedCity': '上海',\n",
       "    'chargedParty': '18017054743',\n",
       "    'fee1': '0.00',\n",
       "    'fee2': '0.80',\n",
       "    'fee3': '0.00',\n",
       "    'fee4': '0.00',\n",
       "    'forwardingFlag': '',\n",
       "    'fowardingNumber': '',\n",
       "    'index': 0,\n",
       "    'longDistanceType': '国际长途',\n",
       "    'prodId': '18017054743',\n",
       "    'productLineName': '1',\n",
       "    'targetParty': '0019794220510',\n",
       "    'temporaryCount': '-0.01',\n",
       "    'totalFee': '0.80'},\n",
       "   {'beginTime': '2016-10-07 18:32:25',\n",
       "    'callDuriation': '0小时0分41秒',\n",
       "    'callType': '被叫',\n",
       "    'calledPartyVisitedCity': '上海',\n",
       "    'callingPartyVisitedCity': '上海',\n",
       "    'chargedParty': '18017054743',\n",
       "    'fee1': '0.00',\n",
       "    'fee2': '0.00',\n",
       "    'fee3': '0.00',\n",
       "    'fee4': '0.00',\n",
       "    'forwardingFlag': '',\n",
       "    'fowardingNumber': '',\n",
       "    'index': 0,\n",
       "    'longDistanceType': '本地',\n",
       "    'prodId': '18017054743',\n",
       "    'productLineName': '1',\n",
       "    'targetParty': '0019794220510',\n",
       "    'temporaryCount': '-0.01',\n",
       "    'totalFee': '0.00'}],\n",
       "  'titleList': ['通话类型',\n",
       "   '开始时间',\n",
       "   '时长(秒)',\n",
       "   '呼叫类型',\n",
       "   '对方号码',\n",
       "   '通话地点',\n",
       "   '基本费用(元)',\n",
       "   '长途费用(元)',\n",
       "   '信息费用(元)',\n",
       "   '其他费用(元)',\n",
       "   '总费用(元)'],\n",
       "  'type': 'SCP'}}"
      ]
     },
     "execution_count": 85,
     "metadata": {},
     "output_type": "execute_result"
    }
   ],
   "source": [
    "data = {\n",
    "    'begin':0,\n",
    "    'bill_type':'SCP',\n",
    "    'dateType':'now',\n",
    "    'devNo':'18017054743',\n",
    "    'end':10,\n",
    "    'endDate':'2016-10-13',\n",
    "    'flag':1,\n",
    "    'startDate':'2016-10-01'\n",
    "}\n",
    "\n",
    "req = Request('GET','http://service.sh.189.cn/service/service/authority/query/billdetailQuery.do', params=data)\n",
    "\n",
    "prepped = s.prepare_request(req)\n",
    "\n",
    "resp = s.send(prepped\n",
    ")\n",
    "\n",
    "resp.json()"
   ]
  }
 ],
 "metadata": {
  "kernelspec": {
   "display_name": "Python 3",
   "language": "python",
   "name": "python3"
  },
  "language_info": {
   "codemirror_mode": {
    "name": "ipython",
    "version": 3
   },
   "file_extension": ".py",
   "mimetype": "text/x-python",
   "name": "python",
   "nbconvert_exporter": "python",
   "pygments_lexer": "ipython3",
   "version": "3.5.2"
  },
  "toc": {
   "colors": {
    "hover_highlight": "#DAA520",
    "running_highlight": "#FF0000",
    "selected_highlight": "#FFD700"
   },
   "moveMenuLeft": true,
   "nav_menu": {
    "height": "315px",
    "width": "252px"
   },
   "navigate_menu": true,
   "number_sections": true,
   "sideBar": true,
   "threshold": 4,
   "toc_cell": false,
   "toc_section_display": "block",
   "toc_window_display": false
  }
 },
 "nbformat": 4,
 "nbformat_minor": 0
}
